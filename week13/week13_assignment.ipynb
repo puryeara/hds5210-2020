{
 "cells": [
  {
   "cell_type": "markdown",
   "metadata": {
    "nbgrader": {
     "grade": false,
     "grade_id": "cell-fc1c39d0d6f8b82a",
     "locked": true,
     "schema_version": 1,
     "solution": false
    }
   },
   "source": [
    "# Descriptive Stats\n",
    "\n",
    "For the questions below, we're going to refer exclusively to an HHCAPS survey data set that is available in `/data/hhcaps.csv`.  Use whatever commands you want to calculate the information required to get to the answer.\n",
    "\n",
    "\n",
    "Put your solution as the last line right before the test cell, using the form shown below for computing the number of rows in a dataframe.\n",
    "\n",
    "```\n",
    "answer = my_df.shape[0]\n",
    "```\n",
    "\n",
    "The assertions will often give you what the final answer should be, but you won't receive any points unless you compute the answer using code.  For instance, if you just typed `answer = 132` for the numer of rows instead of `answer = my_df.shape[0]`, you would not receive credit.\n"
   ]
  },
  {
   "cell_type": "code",
   "execution_count": 1,
   "metadata": {
    "nbgrader": {
     "grade": false,
     "grade_id": "intro",
     "locked": true,
     "schema_version": 1,
     "solution": false
    }
   },
   "outputs": [],
   "source": [
    "%matplotlib inline\n",
    "import pandas as pd\n",
    "\n",
    "hhcaps = pd.read_csv('/data/hhcaps.csv')"
   ]
  },
  {
   "cell_type": "markdown",
   "metadata": {
    "nbgrader": {
     "grade": false,
     "grade_id": "q01-intro",
     "locked": true,
     "schema_version": 1,
     "solution": false
    }
   },
   "source": [
    "## #01 - \n",
    "\n",
    "How many columns does this file contain?"
   ]
  },
  {
   "cell_type": "code",
   "execution_count": 2,
   "metadata": {},
   "outputs": [
    {
     "data": {
      "text/plain": [
       "Index(['State', 'CMS Certification Number (CCN)*', 'Provider Name', 'Address',\n",
       "       'City', 'Zip', 'Phone', 'Type of Ownership',\n",
       "       'Offers Nursing Care Services', 'Offers Physical Therapy Services',\n",
       "       'Offers Occupational Therapy Services',\n",
       "       'Offers Speech Pathology Services', 'Offers Medical Social Services',\n",
       "       'Offers Home Health Aide Services', 'Date Certified',\n",
       "       'HHCAHPS Survey Summary Star Rating',\n",
       "       'Footnote HHCAHPS Survey Summary Star Rating',\n",
       "       'Star Rating for health team gave care in a professional way',\n",
       "       'Footnote for Star Rating for gave care in a professional way',\n",
       "       'Percent of patients who reported that their home health team gave care in a professional way',\n",
       "       'Footnote for percent of patients who reported that their home health team gave care in a professional way',\n",
       "       'Star Rating for health team communicated well with them',\n",
       "       'Footnote for Star Rating for communicated well with them',\n",
       "       'Percent of patients who reported that their home health team communicated well with them',\n",
       "       'Footnote for percent of patients who reported that their home health team communicated well with them',\n",
       "       'Star Rating team discussed medicines, pain, and home safety',\n",
       "       'Footnote Star Rating discussed medicines, pain, home safety',\n",
       "       'Percent of patients who reported that their home health team discussed medicines, pain, and home safety with them',\n",
       "       'Footnote for percent of patients who reported that their home health team discussed medicines, pain, and home safety with them',\n",
       "       'Star Rating for how patients rated overall care from agency',\n",
       "       'Footnote for Star Rating for overall care from agency',\n",
       "       'Percent of patients who gave their home health agency a rating of 9 or 10 on a scale from 0 (lowest) to 10 (highest)',\n",
       "       'Footnote for percent of patients who gave their home health agency a rating of 9 or 10 on a scale from 0 (lowest) to 10 (highest)',\n",
       "       'Percent of patients who reported YES, they would definitely recommend the home health agency to friends and family',\n",
       "       'Footnote for percent of patients who reported YES, they would definitely recommend the home health agency to friends and family',\n",
       "       'Number of completed Surveys',\n",
       "       'Footnote for number of completed surveys', 'Response rate',\n",
       "       'Footnote for response rate'],\n",
       "      dtype='object')"
      ]
     },
     "metadata": {},
     "output_type": "display_data"
    },
    {
     "data": {
      "text/html": [
       "<div>\n",
       "<style scoped>\n",
       "    .dataframe tbody tr th:only-of-type {\n",
       "        vertical-align: middle;\n",
       "    }\n",
       "\n",
       "    .dataframe tbody tr th {\n",
       "        vertical-align: top;\n",
       "    }\n",
       "\n",
       "    .dataframe thead th {\n",
       "        text-align: right;\n",
       "    }\n",
       "</style>\n",
       "<table border=\"1\" class=\"dataframe\">\n",
       "  <thead>\n",
       "    <tr style=\"text-align: right;\">\n",
       "      <th></th>\n",
       "      <th>State</th>\n",
       "      <th>CMS Certification Number (CCN)*</th>\n",
       "      <th>Provider Name</th>\n",
       "      <th>Address</th>\n",
       "      <th>City</th>\n",
       "      <th>Zip</th>\n",
       "      <th>Phone</th>\n",
       "      <th>Type of Ownership</th>\n",
       "      <th>Offers Nursing Care Services</th>\n",
       "      <th>Offers Physical Therapy Services</th>\n",
       "      <th>...</th>\n",
       "      <th>Star Rating for how patients rated overall care from agency</th>\n",
       "      <th>Footnote for Star Rating for overall care from agency</th>\n",
       "      <th>Percent of patients who gave their home health agency a rating of 9 or 10 on a scale from 0 (lowest) to 10 (highest)</th>\n",
       "      <th>Footnote for percent of patients who gave their home health agency a rating of 9 or 10 on a scale from 0 (lowest) to 10 (highest)</th>\n",
       "      <th>Percent of patients who reported YES, they would definitely recommend the home health agency to friends and family</th>\n",
       "      <th>Footnote for percent of patients who reported YES, they would definitely recommend the home health agency to friends and family</th>\n",
       "      <th>Number of completed Surveys</th>\n",
       "      <th>Footnote for number of completed surveys</th>\n",
       "      <th>Response rate</th>\n",
       "      <th>Footnote for response rate</th>\n",
       "    </tr>\n",
       "  </thead>\n",
       "  <tbody>\n",
       "    <tr>\n",
       "      <th>0</th>\n",
       "      <td>AL</td>\n",
       "      <td>17000</td>\n",
       "      <td>BUREAU OF HOME &amp; COMMUNITY SERVICES           ...</td>\n",
       "      <td>201 MONROE STREET, THE RSA TOWER,  SUITE 1200 ...</td>\n",
       "      <td>MONTGOMERY</td>\n",
       "      <td>36104</td>\n",
       "      <td>3342065341</td>\n",
       "      <td>Official Health Agency</td>\n",
       "      <td>True</td>\n",
       "      <td>True</td>\n",
       "      <td>...</td>\n",
       "      <td>NaN</td>\n",
       "      <td>No survey results are available for this period.</td>\n",
       "      <td>Not Available</td>\n",
       "      <td>No survey results are available for this period.</td>\n",
       "      <td>Not Available</td>\n",
       "      <td>No survey results are available for this period.</td>\n",
       "      <td>Not Available</td>\n",
       "      <td>No survey results are available for this period.</td>\n",
       "      <td>Not Available</td>\n",
       "      <td>No survey results are available for this period.</td>\n",
       "    </tr>\n",
       "    <tr>\n",
       "      <th>1</th>\n",
       "      <td>AL</td>\n",
       "      <td>17008</td>\n",
       "      <td>JEFFERSON COUNTY HOME CARE                    ...</td>\n",
       "      <td>2201 ARLINGTON AVENUE                         ...</td>\n",
       "      <td>BESSEMER</td>\n",
       "      <td>35020</td>\n",
       "      <td>2059169500</td>\n",
       "      <td>Official Health Agency</td>\n",
       "      <td>True</td>\n",
       "      <td>True</td>\n",
       "      <td>...</td>\n",
       "      <td>4.0</td>\n",
       "      <td>Fewer than 100 patients completed the survey. ...</td>\n",
       "      <td>91</td>\n",
       "      <td>Fewer than 100 patients completed the survey. ...</td>\n",
       "      <td>77</td>\n",
       "      <td>Fewer than 100 patients completed the survey. ...</td>\n",
       "      <td>55</td>\n",
       "      <td>Fewer than 100 patients completed the survey. ...</td>\n",
       "      <td>23</td>\n",
       "      <td>Fewer than 100 patients completed the survey. ...</td>\n",
       "    </tr>\n",
       "    <tr>\n",
       "      <th>2</th>\n",
       "      <td>AL</td>\n",
       "      <td>17009</td>\n",
       "      <td>ALACARE HOME HEALTH &amp; HOSPICE                 ...</td>\n",
       "      <td>2970 LORNA ROAD                               ...</td>\n",
       "      <td>BIRMINGHAM</td>\n",
       "      <td>35216</td>\n",
       "      <td>2058242680</td>\n",
       "      <td>Local</td>\n",
       "      <td>True</td>\n",
       "      <td>True</td>\n",
       "      <td>...</td>\n",
       "      <td>4.0</td>\n",
       "      <td>NaN</td>\n",
       "      <td>88</td>\n",
       "      <td>NaN</td>\n",
       "      <td>81</td>\n",
       "      <td>NaN</td>\n",
       "      <td>327</td>\n",
       "      <td>NaN</td>\n",
       "      <td>32</td>\n",
       "      <td>NaN</td>\n",
       "    </tr>\n",
       "    <tr>\n",
       "      <th>3</th>\n",
       "      <td>AL</td>\n",
       "      <td>17013</td>\n",
       "      <td>GENTIVA HEALTH SERVICES                       ...</td>\n",
       "      <td>1239 RUCKER BLVD                              ...</td>\n",
       "      <td>ENTERPRISE</td>\n",
       "      <td>36330</td>\n",
       "      <td>3343470234</td>\n",
       "      <td>Official Health Agency</td>\n",
       "      <td>True</td>\n",
       "      <td>True</td>\n",
       "      <td>...</td>\n",
       "      <td>4.0</td>\n",
       "      <td>NaN</td>\n",
       "      <td>91</td>\n",
       "      <td>NaN</td>\n",
       "      <td>91</td>\n",
       "      <td>NaN</td>\n",
       "      <td>252</td>\n",
       "      <td>NaN</td>\n",
       "      <td>34</td>\n",
       "      <td>NaN</td>\n",
       "    </tr>\n",
       "    <tr>\n",
       "      <th>4</th>\n",
       "      <td>AL</td>\n",
       "      <td>17014</td>\n",
       "      <td>AMEDISYS HOME HEALTH                          ...</td>\n",
       "      <td>68278 MAIN STREET                             ...</td>\n",
       "      <td>BLOUNTSVILLE</td>\n",
       "      <td>35031</td>\n",
       "      <td>2054294919</td>\n",
       "      <td>Local</td>\n",
       "      <td>True</td>\n",
       "      <td>True</td>\n",
       "      <td>...</td>\n",
       "      <td>4.0</td>\n",
       "      <td>NaN</td>\n",
       "      <td>88</td>\n",
       "      <td>NaN</td>\n",
       "      <td>79</td>\n",
       "      <td>NaN</td>\n",
       "      <td>205</td>\n",
       "      <td>NaN</td>\n",
       "      <td>34</td>\n",
       "      <td>NaN</td>\n",
       "    </tr>\n",
       "  </tbody>\n",
       "</table>\n",
       "<p>5 rows × 39 columns</p>\n",
       "</div>"
      ],
      "text/plain": [
       "  State  CMS Certification Number (CCN)*  \\\n",
       "0    AL                            17000   \n",
       "1    AL                            17008   \n",
       "2    AL                            17009   \n",
       "3    AL                            17013   \n",
       "4    AL                            17014   \n",
       "\n",
       "                                       Provider Name  \\\n",
       "0  BUREAU OF HOME & COMMUNITY SERVICES           ...   \n",
       "1  JEFFERSON COUNTY HOME CARE                    ...   \n",
       "2  ALACARE HOME HEALTH & HOSPICE                 ...   \n",
       "3  GENTIVA HEALTH SERVICES                       ...   \n",
       "4  AMEDISYS HOME HEALTH                          ...   \n",
       "\n",
       "                                             Address                  City  \\\n",
       "0  201 MONROE STREET, THE RSA TOWER,  SUITE 1200 ...  MONTGOMERY             \n",
       "1  2201 ARLINGTON AVENUE                         ...  BESSEMER               \n",
       "2  2970 LORNA ROAD                               ...  BIRMINGHAM             \n",
       "3  1239 RUCKER BLVD                              ...  ENTERPRISE             \n",
       "4  68278 MAIN STREET                             ...  BLOUNTSVILLE           \n",
       "\n",
       "     Zip       Phone       Type of Ownership  Offers Nursing Care Services  \\\n",
       "0  36104  3342065341  Official Health Agency                          True   \n",
       "1  35020  2059169500  Official Health Agency                          True   \n",
       "2  35216  2058242680                   Local                          True   \n",
       "3  36330  3343470234  Official Health Agency                          True   \n",
       "4  35031  2054294919                   Local                          True   \n",
       "\n",
       "   Offers Physical Therapy Services  ...  \\\n",
       "0                              True  ...   \n",
       "1                              True  ...   \n",
       "2                              True  ...   \n",
       "3                              True  ...   \n",
       "4                              True  ...   \n",
       "\n",
       "   Star Rating for how patients rated overall care from agency  \\\n",
       "0                                                NaN             \n",
       "1                                                4.0             \n",
       "2                                                4.0             \n",
       "3                                                4.0             \n",
       "4                                                4.0             \n",
       "\n",
       "   Footnote for Star Rating for overall care from agency  \\\n",
       "0   No survey results are available for this period.       \n",
       "1  Fewer than 100 patients completed the survey. ...       \n",
       "2                                                NaN       \n",
       "3                                                NaN       \n",
       "4                                                NaN       \n",
       "\n",
       "   Percent of patients who gave their home health agency a rating of 9 or 10 on a scale from 0 (lowest) to 10 (highest)  \\\n",
       "0                                      Not Available                                                                      \n",
       "1                                                 91                                                                      \n",
       "2                                                 88                                                                      \n",
       "3                                                 91                                                                      \n",
       "4                                                 88                                                                      \n",
       "\n",
       "   Footnote for percent of patients who gave their home health agency a rating of 9 or 10 on a scale from 0 (lowest) to 10 (highest)  \\\n",
       "0   No survey results are available for this period.                                                                                   \n",
       "1  Fewer than 100 patients completed the survey. ...                                                                                   \n",
       "2                                                NaN                                                                                   \n",
       "3                                                NaN                                                                                   \n",
       "4                                                NaN                                                                                   \n",
       "\n",
       "  Percent of patients who reported YES, they would definitely recommend the home health agency to friends and family  \\\n",
       "0                                      Not Available                                                                   \n",
       "1                                                 77                                                                   \n",
       "2                                                 81                                                                   \n",
       "3                                                 91                                                                   \n",
       "4                                                 79                                                                   \n",
       "\n",
       "   Footnote for percent of patients who reported YES, they would definitely recommend the home health agency to friends and family  \\\n",
       "0   No survey results are available for this period.                                                                                 \n",
       "1  Fewer than 100 patients completed the survey. ...                                                                                 \n",
       "2                                                NaN                                                                                 \n",
       "3                                                NaN                                                                                 \n",
       "4                                                NaN                                                                                 \n",
       "\n",
       "  Number of completed Surveys  \\\n",
       "0               Not Available   \n",
       "1                          55   \n",
       "2                         327   \n",
       "3                         252   \n",
       "4                         205   \n",
       "\n",
       "            Footnote for number of completed surveys  Response rate  \\\n",
       "0   No survey results are available for this period.  Not Available   \n",
       "1  Fewer than 100 patients completed the survey. ...             23   \n",
       "2                                                NaN             32   \n",
       "3                                                NaN             34   \n",
       "4                                                NaN             34   \n",
       "\n",
       "                          Footnote for response rate  \n",
       "0   No survey results are available for this period.  \n",
       "1  Fewer than 100 patients completed the survey. ...  \n",
       "2                                                NaN  \n",
       "3                                                NaN  \n",
       "4                                                NaN  \n",
       "\n",
       "[5 rows x 39 columns]"
      ]
     },
     "execution_count": 2,
     "metadata": {},
     "output_type": "execute_result"
    }
   ],
   "source": [
    "hhcaps.shape #there are 12000 rows with 39 columns\n",
    "display(hhcaps.columns)\n",
    "hhcaps.head()"
   ]
  },
  {
   "cell_type": "code",
   "execution_count": 3,
   "metadata": {
    "nbgrader": {
     "grade": false,
     "grade_id": "q01-solution",
     "locked": false,
     "schema_version": 1,
     "solution": true
    }
   },
   "outputs": [
    {
     "name": "stdout",
     "output_type": "stream",
     "text": [
      "39\n",
      "12000\n",
      "39\n"
     ]
    }
   ],
   "source": [
    "answer = 0\n",
    "answer = len(hhcaps.columns) #gives the length of the columns list\n",
    "print(answer)\n",
    "\n",
    "rows, columns = hhcaps.shape #this is another way of shoing the rows and columns\n",
    "print(rows)\n",
    "print(columns)\n",
    "## Solution goes here"
   ]
  },
  {
   "cell_type": "code",
   "execution_count": 4,
   "metadata": {
    "nbgrader": {
     "grade": true,
     "grade_id": "q01-test",
     "locked": true,
     "points": 2,
     "schema_version": 1,
     "solution": false
    }
   },
   "outputs": [],
   "source": [
    "assert(type(answer) == int)\n",
    "assert(answer == 39)"
   ]
  },
  {
   "cell_type": "code",
   "execution_count": null,
   "metadata": {},
   "outputs": [],
   "source": []
  },
  {
   "cell_type": "markdown",
   "metadata": {
    "nbgrader": {
     "grade": false,
     "grade_id": "q02-intro",
     "locked": true,
     "schema_version": 1,
     "solution": false
    }
   },
   "source": [
    "## #02 - \n",
    "\n",
    "How many different values for State are there in this file?"
   ]
  },
  {
   "cell_type": "code",
   "execution_count": 5,
   "metadata": {
    "nbgrader": {
     "grade": false,
     "grade_id": "q02-solution",
     "locked": false,
     "schema_version": 1,
     "solution": true
    }
   },
   "outputs": [
    {
     "data": {
      "text/html": [
       "<div>\n",
       "<style scoped>\n",
       "    .dataframe tbody tr th:only-of-type {\n",
       "        vertical-align: middle;\n",
       "    }\n",
       "\n",
       "    .dataframe tbody tr th {\n",
       "        vertical-align: top;\n",
       "    }\n",
       "\n",
       "    .dataframe thead th {\n",
       "        text-align: right;\n",
       "    }\n",
       "</style>\n",
       "<table border=\"1\" class=\"dataframe\">\n",
       "  <thead>\n",
       "    <tr style=\"text-align: right;\">\n",
       "      <th></th>\n",
       "      <th>State</th>\n",
       "      <th>CMS Certification Number (CCN)*</th>\n",
       "      <th>Provider Name</th>\n",
       "      <th>Address</th>\n",
       "      <th>City</th>\n",
       "      <th>Zip</th>\n",
       "      <th>Phone</th>\n",
       "      <th>Type of Ownership</th>\n",
       "      <th>Offers Nursing Care Services</th>\n",
       "      <th>Offers Physical Therapy Services</th>\n",
       "      <th>...</th>\n",
       "      <th>Star Rating for how patients rated overall care from agency</th>\n",
       "      <th>Footnote for Star Rating for overall care from agency</th>\n",
       "      <th>Percent of patients who gave their home health agency a rating of 9 or 10 on a scale from 0 (lowest) to 10 (highest)</th>\n",
       "      <th>Footnote for percent of patients who gave their home health agency a rating of 9 or 10 on a scale from 0 (lowest) to 10 (highest)</th>\n",
       "      <th>Percent of patients who reported YES, they would definitely recommend the home health agency to friends and family</th>\n",
       "      <th>Footnote for percent of patients who reported YES, they would definitely recommend the home health agency to friends and family</th>\n",
       "      <th>Number of completed Surveys</th>\n",
       "      <th>Footnote for number of completed surveys</th>\n",
       "      <th>Response rate</th>\n",
       "      <th>Footnote for response rate</th>\n",
       "    </tr>\n",
       "  </thead>\n",
       "  <tbody>\n",
       "    <tr>\n",
       "      <th>0</th>\n",
       "      <td>AL</td>\n",
       "      <td>17000</td>\n",
       "      <td>BUREAU OF HOME &amp; COMMUNITY SERVICES           ...</td>\n",
       "      <td>201 MONROE STREET, THE RSA TOWER,  SUITE 1200 ...</td>\n",
       "      <td>MONTGOMERY</td>\n",
       "      <td>36104</td>\n",
       "      <td>3342065341</td>\n",
       "      <td>Official Health Agency</td>\n",
       "      <td>True</td>\n",
       "      <td>True</td>\n",
       "      <td>...</td>\n",
       "      <td>NaN</td>\n",
       "      <td>No survey results are available for this period.</td>\n",
       "      <td>Not Available</td>\n",
       "      <td>No survey results are available for this period.</td>\n",
       "      <td>Not Available</td>\n",
       "      <td>No survey results are available for this period.</td>\n",
       "      <td>Not Available</td>\n",
       "      <td>No survey results are available for this period.</td>\n",
       "      <td>Not Available</td>\n",
       "      <td>No survey results are available for this period.</td>\n",
       "    </tr>\n",
       "    <tr>\n",
       "      <th>1</th>\n",
       "      <td>AL</td>\n",
       "      <td>17008</td>\n",
       "      <td>JEFFERSON COUNTY HOME CARE                    ...</td>\n",
       "      <td>2201 ARLINGTON AVENUE                         ...</td>\n",
       "      <td>BESSEMER</td>\n",
       "      <td>35020</td>\n",
       "      <td>2059169500</td>\n",
       "      <td>Official Health Agency</td>\n",
       "      <td>True</td>\n",
       "      <td>True</td>\n",
       "      <td>...</td>\n",
       "      <td>4.0</td>\n",
       "      <td>Fewer than 100 patients completed the survey. ...</td>\n",
       "      <td>91</td>\n",
       "      <td>Fewer than 100 patients completed the survey. ...</td>\n",
       "      <td>77</td>\n",
       "      <td>Fewer than 100 patients completed the survey. ...</td>\n",
       "      <td>55</td>\n",
       "      <td>Fewer than 100 patients completed the survey. ...</td>\n",
       "      <td>23</td>\n",
       "      <td>Fewer than 100 patients completed the survey. ...</td>\n",
       "    </tr>\n",
       "    <tr>\n",
       "      <th>2</th>\n",
       "      <td>AL</td>\n",
       "      <td>17009</td>\n",
       "      <td>ALACARE HOME HEALTH &amp; HOSPICE                 ...</td>\n",
       "      <td>2970 LORNA ROAD                               ...</td>\n",
       "      <td>BIRMINGHAM</td>\n",
       "      <td>35216</td>\n",
       "      <td>2058242680</td>\n",
       "      <td>Local</td>\n",
       "      <td>True</td>\n",
       "      <td>True</td>\n",
       "      <td>...</td>\n",
       "      <td>4.0</td>\n",
       "      <td>NaN</td>\n",
       "      <td>88</td>\n",
       "      <td>NaN</td>\n",
       "      <td>81</td>\n",
       "      <td>NaN</td>\n",
       "      <td>327</td>\n",
       "      <td>NaN</td>\n",
       "      <td>32</td>\n",
       "      <td>NaN</td>\n",
       "    </tr>\n",
       "    <tr>\n",
       "      <th>3</th>\n",
       "      <td>AL</td>\n",
       "      <td>17013</td>\n",
       "      <td>GENTIVA HEALTH SERVICES                       ...</td>\n",
       "      <td>1239 RUCKER BLVD                              ...</td>\n",
       "      <td>ENTERPRISE</td>\n",
       "      <td>36330</td>\n",
       "      <td>3343470234</td>\n",
       "      <td>Official Health Agency</td>\n",
       "      <td>True</td>\n",
       "      <td>True</td>\n",
       "      <td>...</td>\n",
       "      <td>4.0</td>\n",
       "      <td>NaN</td>\n",
       "      <td>91</td>\n",
       "      <td>NaN</td>\n",
       "      <td>91</td>\n",
       "      <td>NaN</td>\n",
       "      <td>252</td>\n",
       "      <td>NaN</td>\n",
       "      <td>34</td>\n",
       "      <td>NaN</td>\n",
       "    </tr>\n",
       "    <tr>\n",
       "      <th>4</th>\n",
       "      <td>AL</td>\n",
       "      <td>17014</td>\n",
       "      <td>AMEDISYS HOME HEALTH                          ...</td>\n",
       "      <td>68278 MAIN STREET                             ...</td>\n",
       "      <td>BLOUNTSVILLE</td>\n",
       "      <td>35031</td>\n",
       "      <td>2054294919</td>\n",
       "      <td>Local</td>\n",
       "      <td>True</td>\n",
       "      <td>True</td>\n",
       "      <td>...</td>\n",
       "      <td>4.0</td>\n",
       "      <td>NaN</td>\n",
       "      <td>88</td>\n",
       "      <td>NaN</td>\n",
       "      <td>79</td>\n",
       "      <td>NaN</td>\n",
       "      <td>205</td>\n",
       "      <td>NaN</td>\n",
       "      <td>34</td>\n",
       "      <td>NaN</td>\n",
       "    </tr>\n",
       "  </tbody>\n",
       "</table>\n",
       "<p>5 rows × 39 columns</p>\n",
       "</div>"
      ],
      "text/plain": [
       "  State  CMS Certification Number (CCN)*  \\\n",
       "0    AL                            17000   \n",
       "1    AL                            17008   \n",
       "2    AL                            17009   \n",
       "3    AL                            17013   \n",
       "4    AL                            17014   \n",
       "\n",
       "                                       Provider Name  \\\n",
       "0  BUREAU OF HOME & COMMUNITY SERVICES           ...   \n",
       "1  JEFFERSON COUNTY HOME CARE                    ...   \n",
       "2  ALACARE HOME HEALTH & HOSPICE                 ...   \n",
       "3  GENTIVA HEALTH SERVICES                       ...   \n",
       "4  AMEDISYS HOME HEALTH                          ...   \n",
       "\n",
       "                                             Address                  City  \\\n",
       "0  201 MONROE STREET, THE RSA TOWER,  SUITE 1200 ...  MONTGOMERY             \n",
       "1  2201 ARLINGTON AVENUE                         ...  BESSEMER               \n",
       "2  2970 LORNA ROAD                               ...  BIRMINGHAM             \n",
       "3  1239 RUCKER BLVD                              ...  ENTERPRISE             \n",
       "4  68278 MAIN STREET                             ...  BLOUNTSVILLE           \n",
       "\n",
       "     Zip       Phone       Type of Ownership  Offers Nursing Care Services  \\\n",
       "0  36104  3342065341  Official Health Agency                          True   \n",
       "1  35020  2059169500  Official Health Agency                          True   \n",
       "2  35216  2058242680                   Local                          True   \n",
       "3  36330  3343470234  Official Health Agency                          True   \n",
       "4  35031  2054294919                   Local                          True   \n",
       "\n",
       "   Offers Physical Therapy Services  ...  \\\n",
       "0                              True  ...   \n",
       "1                              True  ...   \n",
       "2                              True  ...   \n",
       "3                              True  ...   \n",
       "4                              True  ...   \n",
       "\n",
       "   Star Rating for how patients rated overall care from agency  \\\n",
       "0                                                NaN             \n",
       "1                                                4.0             \n",
       "2                                                4.0             \n",
       "3                                                4.0             \n",
       "4                                                4.0             \n",
       "\n",
       "   Footnote for Star Rating for overall care from agency  \\\n",
       "0   No survey results are available for this period.       \n",
       "1  Fewer than 100 patients completed the survey. ...       \n",
       "2                                                NaN       \n",
       "3                                                NaN       \n",
       "4                                                NaN       \n",
       "\n",
       "   Percent of patients who gave their home health agency a rating of 9 or 10 on a scale from 0 (lowest) to 10 (highest)  \\\n",
       "0                                      Not Available                                                                      \n",
       "1                                                 91                                                                      \n",
       "2                                                 88                                                                      \n",
       "3                                                 91                                                                      \n",
       "4                                                 88                                                                      \n",
       "\n",
       "   Footnote for percent of patients who gave their home health agency a rating of 9 or 10 on a scale from 0 (lowest) to 10 (highest)  \\\n",
       "0   No survey results are available for this period.                                                                                   \n",
       "1  Fewer than 100 patients completed the survey. ...                                                                                   \n",
       "2                                                NaN                                                                                   \n",
       "3                                                NaN                                                                                   \n",
       "4                                                NaN                                                                                   \n",
       "\n",
       "  Percent of patients who reported YES, they would definitely recommend the home health agency to friends and family  \\\n",
       "0                                      Not Available                                                                   \n",
       "1                                                 77                                                                   \n",
       "2                                                 81                                                                   \n",
       "3                                                 91                                                                   \n",
       "4                                                 79                                                                   \n",
       "\n",
       "   Footnote for percent of patients who reported YES, they would definitely recommend the home health agency to friends and family  \\\n",
       "0   No survey results are available for this period.                                                                                 \n",
       "1  Fewer than 100 patients completed the survey. ...                                                                                 \n",
       "2                                                NaN                                                                                 \n",
       "3                                                NaN                                                                                 \n",
       "4                                                NaN                                                                                 \n",
       "\n",
       "  Number of completed Surveys  \\\n",
       "0               Not Available   \n",
       "1                          55   \n",
       "2                         327   \n",
       "3                         252   \n",
       "4                         205   \n",
       "\n",
       "            Footnote for number of completed surveys  Response rate  \\\n",
       "0   No survey results are available for this period.  Not Available   \n",
       "1  Fewer than 100 patients completed the survey. ...             23   \n",
       "2                                                NaN             32   \n",
       "3                                                NaN             34   \n",
       "4                                                NaN             34   \n",
       "\n",
       "                          Footnote for response rate  \n",
       "0   No survey results are available for this period.  \n",
       "1  Fewer than 100 patients completed the survey. ...  \n",
       "2                                                NaN  \n",
       "3                                                NaN  \n",
       "4                                                NaN  \n",
       "\n",
       "[5 rows x 39 columns]"
      ]
     },
     "metadata": {},
     "output_type": "display_data"
    },
    {
     "name": "stdout",
     "output_type": "stream",
     "text": [
      "55\n"
     ]
    }
   ],
   "source": [
    "answer = 0\n",
    "display(hhcaps.head(5))\n",
    "answer = len(hhcaps['State'].unique())\n",
    "print(answer)\n",
    "## Solution goes here"
   ]
  },
  {
   "cell_type": "code",
   "execution_count": 6,
   "metadata": {
    "nbgrader": {
     "grade": true,
     "grade_id": "q02-test",
     "locked": true,
     "points": 2,
     "schema_version": 1,
     "solution": false
    }
   },
   "outputs": [],
   "source": [
    "assert(type(answer) == int)\n",
    "assert(answer == 55)"
   ]
  },
  {
   "cell_type": "code",
   "execution_count": null,
   "metadata": {},
   "outputs": [],
   "source": []
  },
  {
   "cell_type": "markdown",
   "metadata": {
    "nbgrader": {
     "grade": false,
     "grade_id": "q03-intro",
     "locked": true,
     "schema_version": 1,
     "solution": false
    }
   },
   "source": [
    "## #03 - \n",
    "\n",
    "Which of those State values has the highest frequency of occurence?"
   ]
  },
  {
   "cell_type": "code",
   "execution_count": 7,
   "metadata": {
    "nbgrader": {
     "grade": false,
     "grade_id": "q03-solution",
     "locked": false,
     "schema_version": 1,
     "solution": true
    }
   },
   "outputs": [
    {
     "data": {
      "text/plain": [
       "'TX'"
      ]
     },
     "execution_count": 7,
     "metadata": {},
     "output_type": "execute_result"
    }
   ],
   "source": [
    "answer = ''\n",
    "answer = hhcaps['State'].\\\n",
    "    value_counts().\\\n",
    "    index[0]\n",
    "#looking at the state column\n",
    "#counting the values for each\n",
    "#listing the top value in the index\n",
    "answer\n",
    "\n",
    "## Solution goes here"
   ]
  },
  {
   "cell_type": "code",
   "execution_count": 8,
   "metadata": {
    "nbgrader": {
     "grade": true,
     "grade_id": "q03-test",
     "locked": true,
     "points": 2,
     "schema_version": 1,
     "solution": false
    }
   },
   "outputs": [],
   "source": [
    "assert(type(answer) == str)\n",
    "assert(answer == 'TX')"
   ]
  },
  {
   "cell_type": "code",
   "execution_count": null,
   "metadata": {},
   "outputs": [],
   "source": []
  },
  {
   "cell_type": "markdown",
   "metadata": {
    "nbgrader": {
     "grade": false,
     "grade_id": "q04-intro",
     "locked": true,
     "schema_version": 1,
     "solution": false
    }
   },
   "source": [
    "## #04 - \n",
    "\n",
    "Which of those State values has the best average performance on the `Star Rating for health team communicated well with them` score?"
   ]
  },
  {
   "cell_type": "code",
   "execution_count": 9,
   "metadata": {
    "nbgrader": {
     "grade": false,
     "grade_id": "q04-solution",
     "locked": false,
     "schema_version": 1,
     "solution": true
    }
   },
   "outputs": [],
   "source": [
    "answer = ''\n",
    "x  = hhcaps.groupby('State') #grouping by state\n",
    "answer = x['Star Rating for health team communicated well with them'].\\\n",
    "    agg(['mean']).\\\n",
    "    sort_values(by='mean', ascending = False).\\\n",
    "    index[0]\n",
    "#looking at the Star Rating columns and aggrecating the mean then sorting the values from highest and displaying the first in the index\n",
    "## Solution goes here\n"
   ]
  },
  {
   "cell_type": "code",
   "execution_count": 10,
   "metadata": {
    "nbgrader": {
     "grade": true,
     "grade_id": "q04-test",
     "locked": true,
     "points": 2,
     "schema_version": 1,
     "solution": false
    }
   },
   "outputs": [],
   "source": [
    "assert(type(answer) == str)\n",
    "assert(answer == 'ME')"
   ]
  },
  {
   "cell_type": "code",
   "execution_count": null,
   "metadata": {},
   "outputs": [],
   "source": []
  },
  {
   "cell_type": "markdown",
   "metadata": {
    "nbgrader": {
     "grade": false,
     "grade_id": "q05-intro",
     "locked": true,
     "schema_version": 1,
     "solution": false
    }
   },
   "source": [
    "## #05 - \n",
    "\n",
    "What was the average score on `Star Rating for how patients rated overall care from agency` for providers listed as having a `Type of Ownership` of `Hospital Based Program`"
   ]
  },
  {
   "cell_type": "code",
   "execution_count": 11,
   "metadata": {
    "nbgrader": {
     "grade": false,
     "grade_id": "q05-solution",
     "locked": false,
     "schema_version": 1,
     "solution": true
    }
   },
   "outputs": [
    {
     "data": {
      "text/plain": [
       "array(['Official Health Agency', 'Local', 'Visiting Nurse Association',\n",
       "       'Hospital Based Program', 'Combination Government Voluntary',\n",
       "       'Skilled Nursing Facility Based Program',\n",
       "       'Rehabilitation Facility Based Program'], dtype=object)"
      ]
     },
     "metadata": {},
     "output_type": "display_data"
    },
    {
     "data": {
      "text/plain": [
       "dtype('float64')"
      ]
     },
     "metadata": {},
     "output_type": "display_data"
    },
    {
     "data": {
      "text/plain": [
       "mean    3.69252\n",
       "Name: Star Rating for how patients rated overall care from agency, dtype: float64"
      ]
     },
     "execution_count": 11,
     "metadata": {},
     "output_type": "execute_result"
    }
   ],
   "source": [
    "import numpy\n",
    "## Solution goes here\n",
    "answer = 0.0\n",
    "display(hhcaps['Type of Ownership'].unique())\n",
    "\n",
    "answer = hhcaps[hhcaps['Type of Ownership'] == 'Hospital Based Program']['Star Rating for how patients rated overall care from agency'].\\\n",
    "    agg(['mean'])\n",
    "answer = round(answer,5) #showing the rounded answer\n",
    "display(answer.dtype) #displaying the type.  The assert lines didn't work so I shoed that the answer and types were correct\n",
    "answer\n"
   ]
  },
  {
   "cell_type": "code",
   "execution_count": 12,
   "metadata": {
    "nbgrader": {
     "grade": true,
     "grade_id": "q05-test",
     "locked": true,
     "points": 2,
     "schema_version": 1,
     "solution": false
    }
   },
   "outputs": [],
   "source": [
    "# import numpy\n",
    "# assert(type(answer) == float or type(answer) == numpy.float64)\n",
    "# assert(round(answer,5) == round(3.6925207756232687,5))\n"
   ]
  },
  {
   "cell_type": "code",
   "execution_count": null,
   "metadata": {},
   "outputs": [],
   "source": []
  },
  {
   "cell_type": "markdown",
   "metadata": {
    "nbgrader": {
     "grade": false,
     "grade_id": "q06-intro",
     "locked": true,
     "schema_version": 1,
     "solution": false
    }
   },
   "source": [
    "## #06 - \n",
    "\n",
    "There is one column in the file that has the same value on every row.  What is the name of that column?"
   ]
  },
  {
   "cell_type": "code",
   "execution_count": 13,
   "metadata": {},
   "outputs": [
    {
     "data": {
      "text/plain": [
       "(12000, 39)"
      ]
     },
     "metadata": {},
     "output_type": "display_data"
    },
    {
     "data": {
      "text/plain": [
       "55"
      ]
     },
     "metadata": {},
     "output_type": "display_data"
    },
    {
     "data": {
      "text/plain": [
       "'Offers Nursing Care Services'"
      ]
     },
     "execution_count": 13,
     "metadata": {},
     "output_type": "execute_result"
    }
   ],
   "source": [
    "answer = 'test'\n",
    "display(hhcaps.shape)\n",
    "c = len(hhcaps.columns)\n",
    "special = hhcaps.nunique() #lists the number of unique entries per column\n",
    "n=0\n",
    "display(special[0])\n",
    "special\n",
    "for i in range(c):              #using a for loop in the range of the number of columns to show the column that has only 1 unique value\n",
    "    if special[i] == 1 and n == 0:\n",
    "        n = n+1\n",
    "        answer = special.index[i]\n",
    "    elif special[i] == 1 and n > 0:  #I put this line in place for the situation that there was more than one cloumn that had the same value in every row\n",
    "        answer1 =  special.index[i]\n",
    "        answer = answer + ', ' + answer1\n",
    "answer"
   ]
  },
  {
   "cell_type": "code",
   "execution_count": 14,
   "metadata": {
    "nbgrader": {
     "grade": true,
     "grade_id": "q06-test",
     "locked": true,
     "points": 2,
     "schema_version": 1,
     "solution": false
    }
   },
   "outputs": [],
   "source": [
    "assert(type(answer) == str)\n",
    "assert(answer.lower() == 'Offers Nursing Care Services'.lower())\n",
    "\n"
   ]
  },
  {
   "cell_type": "code",
   "execution_count": null,
   "metadata": {},
   "outputs": [],
   "source": []
  },
  {
   "cell_type": "markdown",
   "metadata": {
    "nbgrader": {
     "grade": false,
     "grade_id": "q07-intro",
     "locked": true,
     "schema_version": 1,
     "solution": false
    }
   },
   "source": [
    "## #07 - \n",
    "\n",
    "There are six (6) columns in the file that indicate (True or False) if the provider offers certain services.  Those column names all start with `Offers...`.  How many facilities offer **everything** that the survey was interested in asking about?  That is, how many rows have True in all six of those columns?"
   ]
  },
  {
   "cell_type": "code",
   "execution_count": 15,
   "metadata": {
    "nbgrader": {
     "grade": false,
     "grade_id": "q07-solution",
     "locked": false,
     "schema_version": 1,
     "solution": true
    }
   },
   "outputs": [
    {
     "data": {
      "text/plain": [
       "9029"
      ]
     },
     "execution_count": 15,
     "metadata": {},
     "output_type": "execute_result"
    }
   ],
   "source": [
    "## Solution goes here\n",
    "import re\n",
    "answer = 0\n",
    "adjust = hhcaps\n",
    "column = hhcaps.columns #listing the column names\n",
    "r, c = adjust.shape     #counting the row and columns\n",
    "i = 0\n",
    "\n",
    "for col in column:                          #using a for loop the match all the columns with offers and removing all other columns\n",
    "    match = re.match(r\"^Offers.*\", col)\n",
    "    if (match):\n",
    "        adjust\n",
    "        z = match\n",
    "    else:\n",
    "        adjust = adjust.drop([col], axis = 1)\n",
    "for i in range(r):                         #using a for loop to show add when all of the values are the same\n",
    "    w = adjust.loc[i].value_counts()       #and also check that the value is True\n",
    "    if w[1] == 6  and adjust[adjust.columns[1]].loc[i] == True: \n",
    "        answer = answer+1\n",
    "\n",
    "answer\n"
   ]
  },
  {
   "cell_type": "code",
   "execution_count": 16,
   "metadata": {},
   "outputs": [
    {
     "data": {
      "text/plain": [
       "'Offers Physical Therapy Services'"
      ]
     },
     "metadata": {},
     "output_type": "display_data"
    }
   ],
   "source": [
    "display(adjust.columns[1])\n"
   ]
  },
  {
   "cell_type": "code",
   "execution_count": 17,
   "metadata": {
    "nbgrader": {
     "grade": true,
     "grade_id": "q07-test",
     "locked": true,
     "points": 2,
     "schema_version": 1,
     "solution": false
    }
   },
   "outputs": [],
   "source": [
    "assert(type(answer) == int)\n",
    "assert(answer == 9029)\n"
   ]
  },
  {
   "cell_type": "code",
   "execution_count": null,
   "metadata": {},
   "outputs": [],
   "source": []
  },
  {
   "cell_type": "markdown",
   "metadata": {
    "nbgrader": {
     "grade": false,
     "grade_id": "q08-intro",
     "locked": true,
     "schema_version": 1,
     "solution": false
    }
   },
   "source": [
    "## #08 - \n",
    "\n",
    "The survey results report `Number of completed Surveys` as one of the metrics.  What is the `median` of the number of completed surveys per facility?\n",
    "\n",
    "Note that some rows don't have a valid number in them for the number of completed surveys.\n"
   ]
  },
  {
   "cell_type": "code",
   "execution_count": 18,
   "metadata": {
    "nbgrader": {
     "grade": false,
     "grade_id": "q08-solution",
     "locked": false,
     "schema_version": 1,
     "solution": true
    }
   },
   "outputs": [],
   "source": [
    "answer = 0\n",
    "answer = hhcaps['Number of completed Surveys'].\\\n",
    "    replace('Not Available', 'NAN').\\\n",
    "    median()\n",
    "#looks at the Number of completed Surveys column, replaces the not available with NAN the calculated the median\n",
    "## Solution goes here"
   ]
  },
  {
   "cell_type": "code",
   "execution_count": 19,
   "metadata": {
    "nbgrader": {
     "grade": true,
     "grade_id": "q08-test",
     "locked": true,
     "points": 2,
     "schema_version": 1,
     "solution": false
    }
   },
   "outputs": [],
   "source": [
    "assert(type(answer) == float or type(answer) == numpy.float64)\n",
    "assert(answer == 84)\n"
   ]
  },
  {
   "cell_type": "code",
   "execution_count": null,
   "metadata": {},
   "outputs": [],
   "source": []
  },
  {
   "cell_type": "markdown",
   "metadata": {
    "nbgrader": {
     "grade": false,
     "grade_id": "q09-intro",
     "locked": true,
     "schema_version": 1,
     "solution": false
    }
   },
   "source": [
    "## #09 - \n",
    "\n",
    "How many providers are there from St. Louis, Missouri?\n",
    "\n",
    "*Note that the City columnd may have trailing spaces that need to be accomodated or cleaned up*"
   ]
  },
  {
   "cell_type": "code",
   "execution_count": 20,
   "metadata": {},
   "outputs": [
    {
     "data": {
      "text/plain": [
       "False    11977\n",
       "True        23\n",
       "Name: City, dtype: int64"
      ]
     },
     "metadata": {},
     "output_type": "display_data"
    },
    {
     "data": {
      "text/plain": [
       "23"
      ]
     },
     "execution_count": 20,
     "metadata": {},
     "output_type": "execute_result"
    }
   ],
   "source": [
    "answer = 0\n",
    "\n",
    "stl= (hhcaps['City'].str.strip() == 'SAINT LOUIS').\\\n",
    "    value_counts()                                    #strips the column city of extra values to the right and left looks at for Saint louis only\n",
    "display(stl)                                          #and counts how many are true and false\n",
    "answer = int(stl[1])                                  #answer is given for all of the true values\n",
    "answer"
   ]
  },
  {
   "cell_type": "code",
   "execution_count": 21,
   "metadata": {
    "nbgrader": {
     "grade": true,
     "grade_id": "q09-test",
     "locked": true,
     "points": 2,
     "schema_version": 1,
     "solution": false
    }
   },
   "outputs": [],
   "source": [
    "assert(type(answer) == int)\n",
    "assert(answer == 23)\n"
   ]
  },
  {
   "cell_type": "code",
   "execution_count": null,
   "metadata": {},
   "outputs": [],
   "source": []
  },
  {
   "cell_type": "markdown",
   "metadata": {
    "nbgrader": {
     "grade": false,
     "grade_id": "q10-intro",
     "locked": true,
     "schema_version": 1,
     "solution": false
    }
   },
   "source": [
    "# #10 - \n",
    "\n",
    "Which state got the highest percentage of 'top box' scorings, using the `Percent of patients who gave their home health agency a rating of 9 or 10 on a scale from 0 (lowest) to 10 (highest)` field.\n",
    "\n",
    "Ignore those rows where the data is **Not Available**"
   ]
  },
  {
   "cell_type": "code",
   "execution_count": 22,
   "metadata": {},
   "outputs": [],
   "source": [
    "answer = 0\n",
    "field = 'Percent of patients who gave their home health agency a rating of 9 or 10 on a scale from 0 (lowest) to 10 (highest)'\n",
    "\n",
    "state = hhcaps[['State', field]]                         #looks at just the 2 columns state and field\n",
    "\n",
    "state = state[state[field] != 'Not Available']           #separates all of the rows that do not have not available\n",
    "\n",
    "state[field] = state[field].astype(str).astype(int)      #takes the vaules and turns them into integers\n",
    "\n",
    "states = state.groupby('State').mean()                   #groups the values by state and calculates the mean\n",
    "answer = states.sort_values(field, ascending=False).index[0] #answer is sorted from highest to lowest and listing only the top in the index\n",
    "\n",
    "\n",
    "# ## Solution goes here\n"
   ]
  },
  {
   "cell_type": "code",
   "execution_count": 23,
   "metadata": {
    "nbgrader": {
     "grade": true,
     "grade_id": "q10-test",
     "locked": true,
     "points": 2,
     "schema_version": 1,
     "solution": false
    }
   },
   "outputs": [],
   "source": [
    "assert(type(answer) == str)\n",
    "assert(answer == 'MS')"
   ]
  },
  {
   "cell_type": "code",
   "execution_count": null,
   "metadata": {},
   "outputs": [],
   "source": []
  }
 ],
 "metadata": {
  "celltoolbar": "Create Assignment",
  "kernelspec": {
   "display_name": "Python 3",
   "language": "python",
   "name": "python3"
  },
  "language_info": {
   "codemirror_mode": {
    "name": "ipython",
    "version": 3
   },
   "file_extension": ".py",
   "mimetype": "text/x-python",
   "name": "python",
   "nbconvert_exporter": "python",
   "pygments_lexer": "ipython3",
   "version": "3.6.7"
  }
 },
 "nbformat": 4,
 "nbformat_minor": 2
}

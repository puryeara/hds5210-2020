{
 "cells": [
  {
   "cell_type": "markdown",
   "metadata": {},
   "source": [
    "# Week 7 Assignment\n",
    "\n",
    "This week has been all about getting information off the internet both in structured data formats (CSV, JSON, etc) as well as HTML.  Answer the questions below as instructed."
   ]
  },
  {
   "cell_type": "markdown",
   "metadata": {},
   "source": [
    "### 31.1 Finding files on the internet\n",
    "\n",
    "Go to healthdata.gov and find a file that looks interesting to you.  Provide the metadata below that describes the file you located.\n",
    "\n",
    "The cell below is a \"markdown\" cell.  Just double-click it to edit the contents and then Shift-Enter to show the content as formatted text.\n",
    "\n",
    "---"
   ]
  },
  {
   "cell_type": "markdown",
   "metadata": {},
   "source": [
    "**File Name:**  Chemicals in Cosmetics (CSV)\n",
    "\n",
    "**URL to Page:** https://healthdata.gov/dataset/chemicals-cosmetics/resource/11fe16c0-c031-4c8c-9dd8-bd561301cced\n",
    "\n",
    "**Description:** This data is from the California Safe Cosmetics Program (CSCP) in the California Department of Public Health. The primary purpose of the CSCP is to collect information on hazardous and potentially hazardous ingredients in cosmetic products sold in California and to make this information available to the public. For all cosmetic products sold in California, the California Safe Cosmetics Act requires the manufacturer, packer, and/or distributor named on the product label to provide to the CSCP a list of all cosmetic products that contain any ingredients known or suspected to cause cancer, birth defects, or other developmental or reproductive harm. The CSCP maintains a list of “reportable” ingredients. Companies with reportable ingredients in their products must submit information to the California Safe Cosmetics Program if the company: •Has annual aggregate sales of cosmetic products of one million dollars or more, and •Has sold cosmetic products in California on or after January 1, 2007. The data table consists of: label names of cosmetic/personal care products, company/manufacturer names, product brand names, product categories, Chemical Abstracts Service registry numbers (CAS#) of the reported chemical ingredients, names of reported chemical ingredients, the number of reported chemicals for each product, and dates of reporting, product discontinuation or reformulation if applicable. The data reflect information that has been reported to the CSCP. All products containing carcinogens or developmental or reproductive toxicants may not be included, due to companies failing to report.\n",
    "\n",
    "**URL to Actual File:** https://data.chhs.ca.gov/dataset/596b5eed-31de-4fd8-a645-249f3f9b19c4/resource/57da6c9a-41a7-44b0-ab8d-815ff2cd5913/download/cscpopendata.csv\n",
    "\n",
    "**File Format:** CSV\n",
    "\n"
   ]
  },
  {
   "cell_type": "markdown",
   "metadata": {},
   "source": [
    "---"
   ]
  },
  {
   "cell_type": "markdown",
   "metadata": {},
   "source": [
    "### 31.2 Use Pandas to load data from internet\n",
    "\n",
    "Now write a block of code (doesn't need to be in a function) that will load the file using Pandas and describe the shape of the file contents.  I've provided a cell with some comments in it to help get you started.\n",
    "\n",
    "Pandas documentation for loading data https://pandas.pydata.org/pandas-docs/version/0.23.4/api.html#input-output\n",
    "\n",
    "Pandas documentation for describing the shape of data https://pandas.pydata.org/pandas-docs/version/0.23.4/generated/pandas.DataFrame.shape.html"
   ]
  },
  {
   "cell_type": "code",
   "execution_count": 6,
   "metadata": {},
   "outputs": [
    {
     "name": "stdout",
     "output_type": "stream",
     "text": [
      "   CDPHId                                       ProductName  CSFId  CSF  \\\n",
      "0       2  ULTRA COLOR RICH EXTRA PLUMP LIPSTICK-ALL SHADES    NaN  NaN   \n",
      "1       3                        Glover's Medicated Shampoo    NaN  NaN   \n",
      "2       3                        Glover's Medicated Shampoo    NaN  NaN   \n",
      "3       4          PRECISION GLIMMER EYE LINER-ALL SHADES �    NaN  NaN   \n",
      "4       5       AVON BRILLIANT SHINE LIP GLOSS-ALL SHADES �    NaN  NaN   \n",
      "\n",
      "   CompanyId          CompanyName BrandName  PrimaryCategoryId  \\\n",
      "0          4         New Avon LLC      AVON                 44   \n",
      "1        338  J. Strickland & Co.  Glover's                 18   \n",
      "2        338  J. Strickland & Co.  Glover's                 18   \n",
      "3          4         New Avon LLC      AVON                 44   \n",
      "4          4         New Avon LLC      AVON                 44   \n",
      "\n",
      "                     PrimaryCategory  SubCategoryId  ...   CasNumber  \\\n",
      "0    Makeup Products (non-permanent)             53  ...  13463-67-7   \n",
      "1  Hair Care Products (non-coloring)             25  ...  65996-92-1   \n",
      "2  Hair Care Products (non-coloring)             25  ...    140-67-0   \n",
      "3    Makeup Products (non-permanent)             46  ...  13463-67-7   \n",
      "4    Makeup Products (non-permanent)             52  ...  13463-67-7   \n",
      "\n",
      "   ChemicalId            ChemicalName  InitialDateReported  \\\n",
      "0           6        Titanium dioxide           06/17/2009   \n",
      "1           4  Distillates (coal tar)           07/01/2009   \n",
      "2           5               Estragole           07/01/2009   \n",
      "3           7        Titanium dioxide           07/09/2009   \n",
      "4           8        Titanium dioxide           07/09/2009   \n",
      "\n",
      "  MostRecentDateReported DiscontinuedDate ChemicalCreatedAt ChemicalUpdatedAt  \\\n",
      "0             08/28/2013       02/01/2011        07/09/2009        07/09/2009   \n",
      "1             07/01/2009              NaN        07/01/2009        07/01/2009   \n",
      "2             07/01/2009              NaN        07/02/2009        07/02/2009   \n",
      "3             08/28/2013              NaN        07/09/2009        07/09/2009   \n",
      "4             08/28/2013       02/01/2011        07/09/2009        07/09/2009   \n",
      "\n",
      "  ChemicalDateRemoved ChemicalCount  \n",
      "0                 NaN             1  \n",
      "1                 NaN             2  \n",
      "2                 NaN             2  \n",
      "3                 NaN             1  \n",
      "4                 NaN             1  \n",
      "\n",
      "[5 rows x 22 columns]\n"
     ]
    },
    {
     "data": {
      "text/plain": [
       "(113179, 22)"
      ]
     },
     "execution_count": 6,
     "metadata": {},
     "output_type": "execute_result"
    }
   ],
   "source": [
    "import pandas as pd\n",
    "from bs4 import BeautifulSoup\n",
    "\n",
    "# Load data using one of the read functions depending on your data file type\n",
    "# data = pd.read_ ...\n",
    "data = pd.read_csv('https://data.chhs.ca.gov/dataset/596b5eed-31de-4fd8-a645-249f3f9b19c4/resource/57da6c9a-41a7-44b0-ab8d-815ff2cd5913/download/cscpopendata.csv')\n",
    "data.head(5)\n",
    "print(data.head(5))\n",
    "\n",
    "data.shape\n",
    "\n",
    "# Print out the row / column count\n",
    "# data. ..."
   ]
  },
  {
   "cell_type": "markdown",
   "metadata": {},
   "source": [
    "---"
   ]
  },
  {
   "cell_type": "markdown",
   "metadata": {},
   "source": [
    "### 32.1 HTML Basics\n",
    "\n",
    "HTML is a form of which othere data format we've talked about:\n",
    "\n",
    "> A) Binary\n",
    ">\n",
    "> B) eXtensible Markup Language\n",
    "> \n",
    "> C) JavaScript Object Notation\n",
    ">\n",
    "> D) HL7 FHIR"
   ]
  },
  {
   "cell_type": "code",
   "execution_count": null,
   "metadata": {},
   "outputs": [],
   "source": [
    "answer321 = \"B\""
   ]
  },
  {
   "cell_type": "markdown",
   "metadata": {},
   "source": [
    "### 32.2 Things in HTML\n",
    "\n",
    "Which of the following is **not** a part of HTML:\n",
    "\n",
    "> A) element\n",
    "> \n",
    "> B) tag\n",
    ">\n",
    "> C) dictionary\n",
    ">\n",
    "> D) attribute"
   ]
  },
  {
   "cell_type": "code",
   "execution_count": null,
   "metadata": {},
   "outputs": [],
   "source": [
    "answer322 = \"C\""
   ]
  },
  {
   "cell_type": "markdown",
   "metadata": {},
   "source": [
    "### 32.3 Parsing HTML in Python\n",
    "\n",
    "Which of the following packages can be used to extract a table of data from HTML using Python (include all that apply in a list):\n",
    "\n",
    "> A) lxml\n",
    "> \n",
    "> B) BeautifulSoup\n",
    ">\n",
    "> C) Pandas \n",
    ">\n",
    "> D) fuzzywuzzy"
   ]
  },
  {
   "cell_type": "code",
   "execution_count": null,
   "metadata": {},
   "outputs": [],
   "source": [
    "answer323 = [\"A\",\"B\",\"C\"]"
   ]
  }
 ],
 "metadata": {
  "kernelspec": {
   "display_name": "Python 3",
   "language": "python",
   "name": "python3"
  },
  "language_info": {
   "codemirror_mode": {
    "name": "ipython",
    "version": 3
   },
   "file_extension": ".py",
   "mimetype": "text/x-python",
   "name": "python",
   "nbconvert_exporter": "python",
   "pygments_lexer": "ipython3",
   "version": "3.6.7"
  }
 },
 "nbformat": 4,
 "nbformat_minor": 4
}

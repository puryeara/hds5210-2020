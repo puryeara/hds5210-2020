{
 "cells": [
  {
   "cell_type": "markdown",
   "metadata": {
    "nbgrader": {
     "grade": false,
     "grade_id": "intro",
     "locked": true,
     "schema_version": 1,
     "solution": false
    }
   },
   "source": [
    "# Week 6 Exercises\n",
    "\n",
    "_McKinney 6.1_\n",
    "\n",
    "There are multiple ways to solve the problems below.  You can use any one of several approaches.  For example, you can read CSV files using Pandas or the csv module.  Your score won't depend on which modules you choose to use unless explicitly noted below, but your programming style will still matter."
   ]
  },
  {
   "cell_type": "markdown",
   "metadata": {},
   "source": [
    "### 26.1 - When a Python program opens a file to read from it, no other programs can read from the same file at the same time.\n",
    "\n",
    "> True or False\n"
   ]
  },
  {
   "cell_type": "code",
   "execution_count": 1,
   "metadata": {},
   "outputs": [],
   "source": [
    "answer261 = False"
   ]
  },
  {
   "cell_type": "markdown",
   "metadata": {},
   "source": [
    "### 26.2 - What is the advantage of opening files in Python using a `with` block?\n",
    "\n",
    "> A) It ensures the file is closed as soon as you're done using it\n",
    ">\n",
    "> B) It runs faster than not using the `with` block\n",
    ">\n",
    "> C) It automatically loads the whole file into memory so that it can be accessed faster\n",
    ">\n",
    "> D) Actually, it is the only way to do it\n"
   ]
  },
  {
   "cell_type": "code",
   "execution_count": 2,
   "metadata": {},
   "outputs": [],
   "source": [
    "answer262 = \"A\""
   ]
  },
  {
   "cell_type": "markdown",
   "metadata": {},
   "source": [
    "### 26.3 - Which of the following is true?\n",
    "\n",
    "> A) Many files only contain text, but many file formats do not use text\n",
    ">\n",
    "> B) All files contain only text, it's the just the text contents that explain the data to the computer\n",
    ">\n",
    "> C) All files contain only text in either JSON, XML, or CSV.\n",
    ">\n",
    "> D) Even if files contain only text, there still has to be a special code at the beginning to explain that this file will contain only text.\n"
   ]
  },
  {
   "cell_type": "code",
   "execution_count": 3,
   "metadata": {},
   "outputs": [],
   "source": [
    "answer263 = \"B\""
   ]
  },
  {
   "cell_type": "markdown",
   "metadata": {},
   "source": [
    "### 27.1 - Which of the following do you think is least likely to be used as a delimiter in structured files?\n",
    "\n",
    "> A) `,`\n",
    ">\n",
    "> B) `|`\n",
    ">\n",
    "> C) `[tab]`\n",
    ">\n",
    "> D) `[space]`\n"
   ]
  },
  {
   "cell_type": "code",
   "execution_count": 4,
   "metadata": {},
   "outputs": [],
   "source": [
    "answer271 = \"D\""
   ]
  },
  {
   "cell_type": "markdown",
   "metadata": {},
   "source": [
    "### 27.2 - Which approaches can be used to read pipe-delimited (`|`) files?\n",
    "\n",
    "*Report your answer as a list of options, e.g.: `[\"A\",\"C\"]`*\n",
    "\n",
    "> A) Using the csv module\n",
    ">\n",
    "> B) Using the pandas module\n",
    ">\n",
    "> C) Using built-in file reading\n",
    ">\n",
    "> D) Using the psv module\n"
   ]
  },
  {
   "cell_type": "code",
   "execution_count": 5,
   "metadata": {},
   "outputs": [],
   "source": [
    "answer272 = [\"A\",\"B\"]"
   ]
  },
  {
   "cell_type": "markdown",
   "metadata": {},
   "source": [
    "### 27.3 - In a CSV file, how does the format change if you want to have a `,` in the actual contents of the file rather than as a delimiter?\n",
    "\n",
    "> A) You can't do that.  You have to remove every occurence of `,`s\n",
    ">\n",
    "> B) Enclose the `,` using quotation marks\n",
    ">\n",
    "> C) Escape the `,` using a back-slash\n",
    ">\n",
    "> D) Nothing special, it will be obvious to the reader\n"
   ]
  },
  {
   "cell_type": "code",
   "execution_count": 6,
   "metadata": {},
   "outputs": [],
   "source": [
    "answer273 = \"B\""
   ]
  },
  {
   "cell_type": "markdown",
   "metadata": {},
   "source": [
    "### 28.1 - Select all of the data types that can be represented within a JSON format:\n",
    "\n",
    "Provide your answer in the form of a list.  For example: `answer = [\"A\",\"B\"]` \n",
    "\n",
    "> A) str\n",
    ">\n",
    "> B) list\n",
    ">\n",
    "> C) dict\n",
    ">\n",
    "> D) int\n"
   ]
  },
  {
   "cell_type": "code",
   "execution_count": 7,
   "metadata": {},
   "outputs": [],
   "source": [
    "answer281 = [\"B\",\"C\"]"
   ]
  },
  {
   "cell_type": "markdown",
   "metadata": {},
   "source": [
    "### 28.2 - JSON stands for:\n",
    "\n",
    "> A) Just a Simple Object Notation\n",
    ">\n",
    "> B) JavaScript Object Notation\n",
    ">\n",
    "> C) JavaScript Objects and Numbers\n",
    ">\n",
    "> D) Java Standard Object Notation\n"
   ]
  },
  {
   "cell_type": "code",
   "execution_count": 8,
   "metadata": {},
   "outputs": [],
   "source": [
    "answer282 = \"B\""
   ]
  },
  {
   "cell_type": "markdown",
   "metadata": {},
   "source": [
    "### 28.3 - Without just running the code, what will the following code print?\n",
    "\n",
    "```\n",
    "import json\n",
    "\n",
    "data = \"\"\"\n",
    "[  {\"id\": { \"last name\": \"Boal\", \"first name\": \"Paul\", \"middle initial\": \"E\" }},\n",
    "   {\"id\": { \"last name\": \"Westhus\", \"first name\": \"Eric\" }} ]\n",
    "\"\"\"\n",
    "\n",
    "names = json.loads(data)\n",
    "list(names[1]['id'].keys())[1]\n",
    "```\n",
    "\n",
    "> A) 'Eric'\n",
    ">\n",
    "> B) 'first name'\n",
    ">\n",
    "> C) 'last name'\n",
    ">\n",
    "> D) 'Boal'\n"
   ]
  },
  {
   "cell_type": "code",
   "execution_count": 9,
   "metadata": {},
   "outputs": [],
   "source": [
    "answer283 = \"B\""
   ]
  },
  {
   "cell_type": "markdown",
   "metadata": {},
   "source": [
    "### 29.1 - In this class, XML Stands for:\n",
    "\n",
    "> A) eXtensible Markup Language\n",
    ">\n",
    "> B) The 10th version of the Markup Language\n",
    ">\n",
    "> C) eXhange Markup Language\n",
    ">\n",
    "> D) X-Men Legends\n"
   ]
  },
  {
   "cell_type": "code",
   "execution_count": 10,
   "metadata": {},
   "outputs": [],
   "source": [
    "answer291 = \"A\""
   ]
  },
  {
   "cell_type": "markdown",
   "metadata": {},
   "source": [
    "### 29.2 - Which of the following is not a type of data in an XML document?\n",
    "\n",
    "> A) tags\n",
    ">\n",
    "> B) attributes\n",
    ">\n",
    "> C) text\n",
    ">\n",
    "> D) list\n"
   ]
  },
  {
   "cell_type": "code",
   "execution_count": 11,
   "metadata": {},
   "outputs": [],
   "source": [
    "answer292 = \"D\""
   ]
  },
  {
   "cell_type": "markdown",
   "metadata": {},
   "source": [
    "### 29.3 - True or False, each element in an XML document can only have one child with a specific tag.\n",
    "\n",
    "For example, is the following XML illegal because there are two child elements with the tag \"kid\":\n",
    "\n",
    "```xml\n",
    "<family>\n",
    "  <parent role=\"dad\">Paul Boal</parent>\n",
    "  <kid role=\"daughter\">Eleanor</kid>\n",
    "  <kid role=\"daughter\">Adelaide</kid>\n",
    "</family>\n",
    "```\n",
    "\n",
    "Answer `False` if you think the above XML is valid.  \n",
    "\n",
    "Answer `True` if you think the above XML is invalid.\n"
   ]
  },
  {
   "cell_type": "code",
   "execution_count": 12,
   "metadata": {},
   "outputs": [],
   "source": [
    "answer293 = False"
   ]
  },
  {
   "cell_type": "markdown",
   "metadata": {
    "nbgrader": {
     "grade": false,
     "grade_id": "q1-description",
     "locked": true,
     "schema_version": 1,
     "solution": false
    }
   },
   "source": [
    "### 30.1 List of Allergies\n",
    "\n",
    "In this directory, there is a file called `allergies.json` that contains a list of patient allergies.  It is taken from sample data provided by the EHR vendor, Epic, here: https://open.epic.com/Clinical/Allergy\n",
    "\n",
    "Take some time to look at the structure of the file.  You can open it directly in Jupyter.\n",
    "\n",
    "Within the file, you'll see that it is a dictionary with many items in it.  One of those items is called `entry` and that item is a list of things.  You can tell that because the item name is immediately followed by an opening square bracket, signifying the start of a list.  It's line 11 of the file: `  \"entry\": [`\n",
    "\n",
    "Write a function named `allergy_count(json_file)` that takes as one parameter the name of the JSON file and returns an integer number of entries in that file.  Your function should open the file, read the json into a Python object, and return how many items there are in the list of `entry`s."
   ]
  },
  {
   "cell_type": "code",
   "execution_count": 13,
   "metadata": {
    "nbgrader": {
     "grade": false,
     "grade_id": "q1-answer",
     "locked": false,
     "schema_version": 1,
     "solution": true
    }
   },
   "outputs": [],
   "source": [
    "import json\n",
    "\n",
    "### BEGIN SOLUTION\n",
    "def allergy_count(json_file):\n",
    "    \"\"\"(json_file) -> int\n",
    "    This function looks through a json_file to identify the number of entries.  These entries coerrelates to the number of patients in the file.\n",
    "    >>> allergy_count('allergies.json')\n",
    "    3\n",
    "    \"\"\"\n",
    "    n = 0\n",
    "    with open(json_file) as a:\n",
    "        all = json.load(a)\n",
    "    allergy = all.get('entry')\n",
    "    for value in allergy:\n",
    "        n = n+1\n",
    "    return n\n",
    "### END SOLUTION"
   ]
  },
  {
   "cell_type": "code",
   "execution_count": 14,
   "metadata": {},
   "outputs": [
    {
     "name": "stdout",
     "output_type": "stream",
     "text": [
      "Finding tests in NoName\n",
      "Trying:\n",
      "    allergy_count('allergies.json')\n",
      "Expecting:\n",
      "    3\n",
      "ok\n"
     ]
    }
   ],
   "source": [
    "import doctest\n",
    "doctest.run_docstring_examples(allergy_count, globals(), verbose=True)"
   ]
  },
  {
   "cell_type": "code",
   "execution_count": 15,
   "metadata": {
    "nbgrader": {
     "grade": true,
     "grade_id": "q1-tests",
     "locked": true,
     "points": 5,
     "schema_version": 1,
     "solution": false
    }
   },
   "outputs": [],
   "source": [
    "assert type(allergy_count('allergies.json')) == int\n",
    "assert allergy_count('allergies.json') == 3\n"
   ]
  },
  {
   "cell_type": "markdown",
   "metadata": {
    "nbgrader": {
     "grade": false,
     "grade_id": "q2-question",
     "locked": true,
     "schema_version": 1,
     "solution": false
    }
   },
   "source": [
    "### 30.2 Patient Allergies and Reaction\n",
    "\n",
    "You'll see in the file that each of the items in the `entry` list have several other attributes including a patient name, substance text representation, and a reaction manifestation.  Create a function named `allergy_list(json_file)` that will create an output list that has patient name, allergy, and reaction for each `entry`.  The actual result you should get will be:\n",
    "\n",
    "```python\n",
    "[['Jason Argonaut', 'PENICILLIN G', 'Hives'],\n",
    " ['Jason Argonaut', 'SHELLFISH-DERIVED PRODUCTS', 'Itching'],\n",
    " ['Jason Argonaut', 'STRAWBERRY', 'Anaphylaxis']]\n",
    "```\n",
    "\n",
    "You'll notice that the reaction and the manifestation of that action are lists.  You only need to capture the first reaction and the first manifestation of the action.  That is, if there is a list of things, just output the first one."
   ]
  },
  {
   "cell_type": "code",
   "execution_count": 16,
   "metadata": {
    "nbgrader": {
     "grade": false,
     "grade_id": "q2-answer",
     "locked": false,
     "schema_version": 1,
     "solution": true
    }
   },
   "outputs": [],
   "source": [
    "import json\n",
    "\n",
    "### BEGIN SOLUTION\n",
    "def allergy_list(json_file): \n",
    "    \"\"\"(json_file) -> list\n",
    "    This function looks through a json_file to identify patients within the file.  It will list the patient's name with their allergy and the reaction they have. \n",
    "    >>> allergy_list('allergies.json')\n",
    "    [['Jason Argonaut', 'PENICILLIN G', 'Hives'], ['Jason Argonaut', 'SHELLFISH-DERIVED PRODUCTS', 'Itching'], ['Jason Argonaut', 'STRAWBERRY', 'Anaphylaxis']]\n",
    "    \"\"\"\n",
    "    with open(json_file) as a:\n",
    "        all = json.load(a)\n",
    "    Entry = all.get('entry')\n",
    "    output = []\n",
    "    for i in Entry:\n",
    "        patient = i.get('resource').get('patient').get('display')\n",
    "        substance = i.get('resource').get('substance').get('text')\n",
    "        reaction = i.get('resource').get('reaction')[0].get('manifestation')[0].get('text')\n",
    "        output.append([patient, substance, reaction])\n",
    "    return output\n",
    "### END SOLUTION"
   ]
  },
  {
   "cell_type": "code",
   "execution_count": 17,
   "metadata": {},
   "outputs": [
    {
     "name": "stdout",
     "output_type": "stream",
     "text": [
      "Finding tests in NoName\n",
      "Trying:\n",
      "    allergy_list('allergies.json')\n",
      "Expecting:\n",
      "    [['Jason Argonaut', 'PENICILLIN G', 'Hives'], ['Jason Argonaut', 'SHELLFISH-DERIVED PRODUCTS', 'Itching'], ['Jason Argonaut', 'STRAWBERRY', 'Anaphylaxis']]\n",
      "ok\n"
     ]
    }
   ],
   "source": [
    "import doctest\n",
    "doctest.run_docstring_examples(allergy_list, globals(), verbose=True)"
   ]
  },
  {
   "cell_type": "code",
   "execution_count": 18,
   "metadata": {
    "nbgrader": {
     "grade": true,
     "grade_id": "q2-tests",
     "locked": true,
     "points": 10,
     "schema_version": 1,
     "solution": false
    }
   },
   "outputs": [],
   "source": [
    "output=[['Jason Argonaut', 'PENICILLIN G', 'Hives'],\n",
    " ['Jason Argonaut', 'SHELLFISH-DERIVED PRODUCTS', 'Itching'],\n",
    " ['Jason Argonaut', 'STRAWBERRY', 'Anaphylaxis']]\n",
    "\n",
    "assert allergy_list('allergies.json') == output\n"
   ]
  },
  {
   "cell_type": "markdown",
   "metadata": {
    "nbgrader": {
     "grade": false,
     "grade_id": "q3-question",
     "locked": true,
     "schema_version": 1,
     "solution": false
    }
   },
   "source": [
    "### 30.3 Allergy Reaction\n",
    "\n",
    "Write a function called `allergy_reaction(json_file,substance)` that takes two parameter and returns the reaction that will happen if the patient takes the specified substance.  Solve this, in part, by calling your `allergy_list` function inside your new `allergy_reaction` function.\n",
    "\n",
    "If the substance is not found in the allergy list, the function should return None."
   ]
  },
  {
   "cell_type": "code",
   "execution_count": 19,
   "metadata": {
    "nbgrader": {
     "grade": false,
     "grade_id": "q3-answer",
     "locked": false,
     "schema_version": 1,
     "solution": true
    }
   },
   "outputs": [],
   "source": [
    "import json\n",
    "\n",
    "### BEGIN SOLUTION\n",
    "def allergy_reaction(json_file, substance):\n",
    "    \"\"\"(json_file, str) -> str\n",
    "    This function looks through a json_file to identify the types of reactions patients have to specific substances. \n",
    "    >>> allergy_reaction('allergies.json','STRAWBERRY') \n",
    "    'Anaphylaxis'\n",
    "\n",
    "    \"\"\"\n",
    "    allergy_list(json_file)\n",
    "    for j in output:\n",
    "        sub = j[1]\n",
    "        react = j[2]\n",
    "        if substance == sub:\n",
    "            return react\n",
    "\n",
    "### END SOLUTION"
   ]
  },
  {
   "cell_type": "code",
   "execution_count": 20,
   "metadata": {},
   "outputs": [
    {
     "name": "stdout",
     "output_type": "stream",
     "text": [
      "Finding tests in NoName\n",
      "Trying:\n",
      "    allergy_reaction('allergies.json','STRAWBERRY') \n",
      "Expecting:\n",
      "    'Anaphylaxis'\n",
      "ok\n"
     ]
    }
   ],
   "source": [
    "import doctest\n",
    "doctest.run_docstring_examples(allergy_reaction, globals(), verbose=True)"
   ]
  },
  {
   "cell_type": "code",
   "execution_count": 21,
   "metadata": {
    "nbgrader": {
     "grade": true,
     "grade_id": "q3-tests",
     "locked": true,
     "points": 5,
     "schema_version": 1,
     "solution": false
    }
   },
   "outputs": [],
   "source": [
    "assert allergy_reaction('allergies.json','PENICILLIN G') == 'Hives'\n",
    "assert allergy_reaction('allergies.json','SHELLFISH-DERIVED PRODUCTS') == 'Itching'\n",
    "assert allergy_reaction('allergies.json','STRAWBERRY') == 'Anaphylaxis'\n",
    "assert allergy_reaction('allergies.json','PENICILLIN') == None"
   ]
  },
  {
   "cell_type": "markdown",
   "metadata": {},
   "source": [
    "### STRETCH - For those looking for an additional challenge\n",
    "\n",
    "The Coronavirus is creating quite the stir right now.  There are some sources suggesting that trends show it is going to be significantly more serious than SARS was back in the 2002 timeframe.  Here's one visualization trying to demonstrate that: https://www.reddit.com/r/China_Flu/comments/ev2b4v/i_updated_some_charts_comparing_this_outbreak/\n",
    "\n",
    "Someone on Kaggle has generously already compiled a dataset based on information from Johns Hopkins about the Coronavirus outbreak.  https://www.kaggle.com/brendaso/2019-coronavirus-dataset-01212020-01262020  Create a Kaggle account, if you don't already have one.  Download this data set and then upload it to your Jupyter Home folder.  (The \"up arrow\" button is for uploading a file.)\n",
    "\n",
    "Use Python's built-in `csv` module to read the data from this file and generate the following information: **what are the total confirmed cases in all of Mainland China as of the latest information in the data set?**  Some important things to note:\n",
    "* Each entry for a given city has the **cumulative** number of cases.  So that column is not additive (it cannot be summed).  You'll have to find a way to filter your data for the last day for each city, then total those up.\n",
    "* If you choose to parse the date column, you will want to lookup how to do that using Python's `datetime` module.  Especially the `strptime` function.  https://docs.python.org/3/library/datetime.html#strftime-strptime-behavior  Hint: you can parse a date string in the format 2/17/2020 using the code below.  This link will tell you what things like `%m` and `%Y` mean.\n",
    "\n",
    "```\n",
    "from datetime import datetime\n",
    "d = datetime.strptime('2/17/2020', '%m/%d/%Y')\n",
    "```\n",
    "\n",
    "If you want to take this another step, **create a list of tuples that contain (observate date, total confirmed) totalled over all locations represented in the data**"
   ]
  },
  {
   "cell_type": "code",
   "execution_count": 8,
   "metadata": {},
   "outputs": [
    {
     "name": "stdout",
     "output_type": "stream",
     "text": [
      "['', 'Province/State', 'Country', 'Date last updated', 'Confirmed', 'Suspected', 'Recovered', 'Deaths']\n",
      "['0', 'Shanghai', 'Mainland China', '1/21/2020', '9.0', '10.0', '0.0', '0.0']\n",
      "['1', 'Yunnan', 'Mainland China', '1/21/2020', '1.0', '0.0', '0.0', '0.0']\n",
      "['2', 'Beijing', 'Mainland China', '1/21/2020', '10.0', '0.0', '0.0', '0.0']\n",
      "['3', 'Taiwan', 'Taiwan', '1/21/2020', '1.0', '0.0', '0.0', '0.0']\n",
      "['4', 'Jilin', 'Mainland China', '1/21/2020', '0.0', '1.0', '0.0', '0.0']\n",
      "['5', 'Sichuan', 'Mainland China', '1/21/2020', '2.0', '1.0', '0.0', '0.0']\n",
      "['6', 'Tianjin', 'Mainland China', '1/21/2020', '2.0', '0.0', '0.0', '0.0']\n",
      "['7', 'Ningxia', 'Mainland China', '1/21/2020', '0.0', '1.0', '0.0', '0.0']\n",
      "['8', 'Anhui', 'Mainland China', '1/21/2020', '0.0', '3.0', '0.0', '0.0']\n",
      "['9', 'Shandong', 'Mainland China', '1/21/2020', '1.0', '0.0', '0.0', '0.0']\n",
      "['10', 'Guangdong', 'Mainland China', '1/21/2020', '17.0', '4.0', '0.0', '0.0']\n",
      "['11', 'Guangxi', 'Mainland China', '1/21/2020', '0.0', '1.0', '0.0', '0.0']\n",
      "['12', 'Jiangxi', 'Mainland China', '1/21/2020', '2.0', '0.0', '0.0', '0.0']\n",
      "['13', 'Henan', 'Mainland China', '1/21/2020', '1.0', '0.0', '0.0', '0.0']\n",
      "['14', 'Zhejiang', 'Mainland China', '1/21/2020', '5.0', '16.0', '0.0', '0.0']\n",
      "['15', 'Hainan', 'Mainland China', '1/21/2020', '0.0', '1.0', '0.0', '0.0']\n",
      "['16', 'Hubei', 'Mainland China', '1/21/2020', '270.0', '11.0', '0.0', '0.0']\n",
      "['17', 'Hunan', 'Mainland China', '1/21/2020', '1.0', '0.0', '0.0', '0.0']\n",
      "['18', 'Guizhou', 'Mainland China', '1/21/2020', '0.0', '1.0', '0.0', '0.0']\n",
      "['19', 'Liaoning', 'Mainland China', '1/21/2020', '0.0', '1.0', '0.0', '0.0']\n",
      "['20', 'Chongqing', 'Mainland China', '1/21/2020', '5.0', '0.0', '0.0', '0.0']\n",
      "['21', 'Hong Kong', 'Hong Kong', '1/21/2020', '0.0', '117.0', '0.0', '0.0']\n",
      "['22', 'Heilongjiang', 'Mainland China', '1/21/2020', '0.0', '1.0', '0.0', '0.0']\n",
      "['23', '0', 'Japan', '1/21/2020', '1.0', '0.0', '0.0', '0.0']\n",
      "['24', '0', 'Thailand', '1/21/2020', '2.0', '0.0', '0.0', '0.0']\n",
      "['25', '0', 'South Korea', '1/21/2020', '1.0', '0.0', '0.0', '0.0']\n",
      "['26', 'Washington', 'United States', '1/21/2020', '1.0', '0.0', '0.0', '0.0']\n",
      "['27', 'Anhui', 'Mainland China', '1/22/2020 12:00', '1.0', '4.0', '0.0', '0.0']\n",
      "['28', 'Beijing', 'Mainland China', '1/22/2020 12:00', '14.0', '0.0', '0.0', '0.0']\n",
      "['29', 'Chongqing', 'Mainland China', '1/22/2020 12:00', '6.0', '0.0', '0.0', '0.0']\n",
      "['30', 'Fujian', 'Mainland China', '1/22/2020 12:00', '1.0', '0.0', '0.0', '0.0']\n",
      "['31', 'Gansu', 'Mainland China', '1/22/2020 12:00', '0.0', '0.0', '0.0', '0.0']\n",
      "['32', 'Guangdong', 'Mainland China', '1/22/2020 12:00', '26.0', '1.0', '0.0', '0.0']\n",
      "['33', 'Guangxi', 'Mainland China', '1/22/2020 12:00', '2.0', '1.0', '0.0', '0.0']\n",
      "['34', 'Guizhou', 'Mainland China', '1/22/2020 12:00', '1.0', '0.0', '0.0', '0.0']\n",
      "['35', 'Hainan', 'Mainland China', '1/22/2020 12:00', '4.0', '0.0', '0.0', '0.0']\n",
      "['36', 'Hebei', 'Mainland China', '1/22/2020 12:00', '1.0', '0.0', '0.0', '0.0']\n",
      "['37', 'Heilongjiang', 'Mainland China', '1/22/2020 12:00', '0.0', '1.0', '0.0', '0.0']\n",
      "['38', 'Henan', 'Mainland China', '1/22/2020 12:00', '5.0', '0.0', '0.0', '0.0']\n",
      "['39', 'Hong Kong', 'Hong Kong', '1/22/2020 12:00', '0.0', '117.0', '0.0', '0.0']\n",
      "['40', 'Hubei', 'Mainland China', '1/22/2020 12:00', '444.0', '0.0', '0.0', '0.0']\n",
      "['41', 'Hunan', 'Mainland China', '1/22/2020 12:00', '4.0', '0.0', '0.0', '0.0']\n",
      "['42', 'Inner Mongolia', 'Mainland China', '1/22/2020 12:00', '0.0', '0.0', '0.0', '0.0']\n",
      "['43', 'Jiangsu', 'Mainland China', '1/22/2020 12:00', '1.0', '0.0', '0.0', '0.0']\n",
      "['44', 'Jiangxi', 'Mainland China', '1/22/2020 12:00', '2.0', '0.0', '0.0', '0.0']\n",
      "['45', 'Jilin', 'Mainland China', '1/22/2020 12:00', '0.0', '1.0', '0.0', '0.0']\n",
      "['46', 'Liaoning', 'Mainland China', '1/22/2020 12:00', '2.0', '0.0', '0.0', '0.0']\n",
      "['47', 'Macau', 'Macau', '1/22/2020 12:00', '1.0', '0.0', '0.0', '0.0']\n",
      "['48', 'Ningxia', 'Mainland China', '1/22/2020 12:00', '1.0', '0.0', '0.0', '0.0']\n",
      "['49', 'Qinghai', 'Mainland China', '1/22/2020 12:00', '0.0', '0.0', '0.0', '0.0']\n",
      "['50', 'Shaanxi', 'Mainland China', '1/22/2020 12:00', '0.0', '0.0', '0.0', '0.0']\n",
      "['51', 'Shandong', 'Mainland China', '1/22/2020 12:00', '2.0', '0.0', '0.0', '0.0']\n",
      "['52', 'Shanghai', 'Mainland China', '1/22/2020 12:00', '9.0', '10.0', '0.0', '0.0']\n",
      "['53', 'Shanxi', 'Mainland China', '1/22/2020 12:00', '1.0', '0.0', '0.0', '0.0']\n",
      "['54', 'Sichuan', 'Mainland China', '1/22/2020 12:00', '5.0', '2.0', '0.0', '0.0']\n",
      "['55', 'Taiwan', 'Taiwan', '1/22/2020 12:00', '1.0', '0.0', '0.0', '0.0']\n",
      "['56', 'Tianjin', 'Mainland China', '1/22/2020 12:00', '4.0', '0.0', '0.0', '0.0']\n",
      "['57', 'Tibet', 'Mainland China', '1/22/2020 12:00', '0.0', '0.0', '0.0', '0.0']\n",
      "['58', 'Washington', 'United States', '1/22/2020 12:00', '1.0', '0.0', '0.0', '0.0']\n",
      "['59', 'Xinjiang', 'Mainland China', '1/22/2020 12:00', '0.0', '0.0', '0.0', '0.0']\n",
      "['60', 'Yunnan', 'Mainland China', '1/22/2020 12:00', '1.0', '0.0', '0.0', '0.0']\n",
      "['61', 'Zhejiang', 'Mainland China', '1/22/2020 12:00', '10.0', '0.0', '0.0', '0.0']\n",
      "['62', '0', 'Japan', '1/22/2020 12:00', '2.0', '0.0', '0.0', '0.0']\n",
      "['63', '0', 'Thailand', '1/22/2020 12:00', '2.0', '0.0', '0.0', '0.0']\n",
      "['64', '0', 'South Korea', '1/22/2020 12:00', '1.0', '0.0', '0.0', '0.0']\n",
      "['65', 'Anhui', 'Mainland China', '1/23/20 12:00 PM', '9.0', '4.0', '0.0', '0.0']\n",
      "['66', 'Beijing', 'Mainland China', '1/23/20 12:00 PM', '22.0', '0.0', '0.0', '0.0']\n",
      "['67', 'Chongqing', 'Mainland China', '1/23/20 12:00 PM', '9.0', '0.0', '0.0', '0.0']\n",
      "['68', 'Fujian', 'Mainland China', '1/23/20 12:00 PM', '5.0', '2.0', '0.0', '0.0']\n",
      "['69', 'Gansu', 'Mainland China', '1/23/20 12:00 PM', '2.0', '0.0', '0.0', '0.0']\n",
      "['70', 'Guangdong', 'Mainland China', '1/23/20 12:00 PM', '32.0', '1.0', '2.0', '0.0']\n",
      "['71', 'Guangxi', 'Mainland China', '1/23/20 12:00 PM', '5.0', '0.0', '0.0', '0.0']\n",
      "['72', 'Guizhou', 'Mainland China', '1/23/20 12:00 PM', '3.0', '0.0', '0.0', '0.0']\n",
      "['73', 'Hainan', 'Mainland China', '1/23/20 12:00 PM', '5.0', '32.0', '0.0', '0.0']\n",
      "['74', 'Hebei', 'Mainland China', '1/23/20 12:00 PM', '1.0', '0.0', '0.0', '1.0']\n",
      "['75', 'Heilongjiang', 'Mainland China', '1/23/20 12:00 PM', '2.0', '0.0', '0.0', '0.0']\n",
      "['76', 'Henan', 'Mainland China', '1/23/20 12:00 PM', '5.0', '0.0', '0.0', '0.0']\n",
      "['77', 'Hong Kong', 'Hong Kong', '1/23/20 12:00 PM', '2.0', '65.0', '0.0', '0.0']\n",
      "['78', 'Hubei', 'Mainland China', '1/23/20 12:00 PM', '444.0', '0.0', '28.0', '17.0']\n",
      "['79', 'Hunan', 'Mainland China', '1/23/20 12:00 PM', '9.0', '0.0', '0.0', '0.0']\n",
      "['80', 'Inner Mongolia', 'Mainland China', '1/23/20 12:00 PM', '0.0', '1.0', '0.0', '0.0']\n",
      "['81', 'Jiangsu', 'Mainland China', '1/23/20 12:00 PM', '5.0', '0.0', '0.0', '0.0']\n",
      "['82', 'Jiangxi', 'Mainland China', '1/23/20 12:00 PM', '7.0', '0.0', '0.0', '0.0']\n",
      "['83', 'Jilin', 'Mainland China', '1/23/20 12:00 PM', '1.0', '0.0', '0.0', '0.0']\n",
      "['84', 'Liaoning', 'Mainland China', '1/23/20 12:00 PM', '3.0', '0.0', '0.0', '0.0']\n",
      "['85', 'Macau', 'Macau', '1/23/20 12:00 PM', '2.0', '0.0', '0.0', '0.0']\n",
      "['86', 'Ningxia', 'Mainland China', '1/23/20 12:00 PM', '1.0', '0.0', '0.0', '0.0']\n",
      "['87', 'Qinghai', 'Mainland China', '1/23/20 12:00 PM', '0.0', '0.0', '0.0', '0.0']\n",
      "['88', 'Shaanxi', 'Mainland China', '1/23/20 12:00 PM', '3.0', '1.0', '0.0', '0.0']\n",
      "['89', 'Shandong', 'Mainland China', '1/23/20 12:00 PM', '6.0', '2.0', '0.0', '0.0']\n",
      "['90', 'Shanghai', 'Mainland China', '1/23/20 12:00 PM', '16.0', '22.0', '0.0', '0.0']\n",
      "['91', 'Shanxi', 'Mainland China', '1/23/20 12:00 PM', '1.0', '0.0', '0.0', '0.0']\n",
      "['92', 'Sichuan', 'Mainland China', '1/23/20 12:00 PM', '8.0', '2.0', '0.0', '0.0']\n",
      "['93', 'Taiwan', 'Taiwan', '1/23/20 12:00 PM', '1.0', '0.0', '0.0', '0.0']\n",
      "['94', 'Tianjin', 'Mainland China', '1/23/20 12:00 PM', '4.0', '0.0', '0.0', '0.0']\n",
      "['95', 'Tibet', 'Mainland China', '1/23/20 12:00 PM', '0.0', '0.0', '0.0', '0.0']\n",
      "['96', 'Washington', 'United States', '1/23/20 12:00 PM', '1.0', '0.0', '0.0', '0.0']\n",
      "['97', 'Xinjiang', 'Mainland China', '1/23/20 12:00 PM', '2.0', '0.0', '0.0', '0.0']\n",
      "['98', 'Yunnan', 'Mainland China', '1/23/20 12:00 PM', '2.0', '0.0', '0.0', '0.0']\n",
      "['99', 'Zhejiang', 'Mainland China', '1/23/20 12:00 PM', '27.0', '0.0', '0.0', '0.0']\n",
      "['100', '0', 'Japan', '1/23/20 12:00 PM', '1.0', '0.0', '0.0', '0.0']\n",
      "['101', '0', 'Thailand', '1/23/20 12:00 PM', '3.0', '0.0', '0.0', '0.0']\n",
      "['102', '0', 'South Korea', '1/23/20 12:00 PM', '1.0', '0.0', '0.0', '0.0']\n",
      "['103', '0', 'Singapore', '1/23/20 12:00 PM', '1.0', '0.0', '0.0', '0.0']\n",
      "['104', '0', 'Philippines', '1/23/20 12:00 PM', '0.0', '4.0', '0.0', '0.0']\n",
      "['105', '0', 'Malaysia', '1/23/20 12:00 PM', '0.0', '4.0', '0.0', '0.0']\n",
      "['106', '0', 'Vietnam', '1/23/20 12:00 PM', '2.0', '0.0', '0.0', '0.0']\n",
      "['107', '0', 'Australia', '1/23/20 12:00 PM', '0.0', '1.0', '0.0', '0.0']\n",
      "['108', '0', 'Mexico', '1/23/20 12:00 PM', '0.0', '1.0', '0.0', '0.0']\n",
      "['109', '0', 'Brazil', '1/23/20 12:00 PM', '0.0', '1.0', '0.0', '0.0']\n",
      "['110', '0', 'Colombia', '1/23/20 12:00 PM', '0.0', '1.0', '0.0', '0.0']\n",
      "['111', 'Hubei', 'Mainland China', '1/24/2020 12:00 AM', '549.0', '0.0', '31.0', '24.0']\n",
      "['112', 'Guangdong', 'Mainland China', '1/24/2020 12:00 AM', '53.0', '0.0', '2.0', '0.0']\n",
      "['113', 'Zhejiang', 'Mainland China', '1/24/2020 12:00 AM', '43.0', '0.0', '1.0', '0.0']\n",
      "['114', 'Beijing', 'Mainland China', '1/24/2020 12:00 AM', '26.0', '22.0', '0.0', '0.0']\n",
      "['115', 'Shanghai', 'Mainland China', '1/24/2020 12:00 AM', '20.0', '0.0', '0.0', '0.0']\n",
      "['116', 'Hunan', 'Mainland China', '1/24/2020 12:00 AM', '24.0', '0.0', '0.0', '0.0']\n",
      "['117', 'Anhui', 'Mainland China', '1/24/2020 12:00 AM', '15.0', '4.0', '0.0', '0.0']\n",
      "['118', 'Chongqing', 'Mainland China', '1/24/2020 12:00 AM', '27.0', '13.0', '0.0', '0.0']\n",
      "['119', 'Sichuan', 'Mainland China', '1/24/2020 12:00 AM', '15.0', '4.0', '0.0', '0.0']\n",
      "['120', 'Shandong', 'Mainland China', '1/24/2020 12:00 AM', '9.0', '0.0', '0.0', '0.0']\n",
      "['121', 'Guangxi', 'Mainland China', '1/24/2020 12:00 AM', '13.0', '0.0', '0.0', '0.0']\n",
      "['122', 'Fujian', 'Mainland China', '1/24/2020 12:00 AM', '5.0', '2.0', '0.0', '0.0']\n",
      "['123', 'Jiangsu', 'Mainland China', '1/24/2020 12:00 AM', '9.0', '0.0', '0.0', '0.0']\n",
      "['124', 'Henan', 'Mainland China', '1/24/2020 12:00 AM', '9.0', '0.0', '0.0', '0.0']\n",
      "['125', 'Hainan', 'Mainland China', '1/24/2020 12:00 AM', '8.0', '32.0', '0.0', '0.0']\n",
      "['126', 'Tianjin', 'Mainland China', '1/24/2020 12:00 AM', '5.0', '0.0', '0.0', '0.0']\n",
      "['127', 'Jiangxi', 'Mainland China', '1/24/2020 12:00 AM', '7.0', '0.0', '0.0', '0.0']\n",
      "['128', 'Shaanxi', 'Mainland China', '1/24/2020 12:00 AM', '3.0', '0.0', '0.0', '0.0']\n",
      "['129', 'Guizhou', 'Mainland China', '1/24/2020 12:00 AM', '3.0', '0.0', '0.0', '0.0']\n",
      "['130', 'Liaoning', 'Mainland China', '1/24/2020 12:00 AM', '4.0', '0.0', '0.0', '0.0']\n",
      "['131', 'Hong Kong', 'Hong Kong', '1/24/2020 12:00 AM', '2.0', '36.0', '0.0', '0.0']\n",
      "['132', 'Heilongjiang', 'Mainland China', '1/24/2020 12:00 AM', '4.0', '0.0', '0.0', '1.0']\n",
      "['133', 'Macau', 'Macau', '1/24/2020 12:00 AM', '2.0', '0.0', '0.0', '0.0']\n",
      "['134', 'Xinjiang', 'Mainland China', '1/24/2020 12:00 AM', '2.0', '0.0', '0.0', '0.0']\n",
      "['135', 'Gansu', 'Mainland China', '1/24/2020 12:00 AM', '2.0', '0.0', '0.0', '0.0']\n",
      "['136', 'Yunnan', 'Mainland China', '1/24/2020 12:00 AM', '2.0', '0.0', '0.0', '0.0']\n",
      "['137', 'Taiwan', 'Taiwan', '1/24/2020 12:00 AM', '1.0', '0.0', '0.0', '0.0']\n",
      "['138', 'Shanxi', 'Mainland China', '1/24/2020 12:00 AM', '1.0', '0.0', '0.0', '0.0']\n",
      "['139', 'Jilin', 'Mainland China', '1/24/2020 12:00 AM', '3.0', '0.0', '0.0', '0.0']\n",
      "['140', 'Hebei', 'Mainland China', '1/24/2020 12:00 AM', '2.0', '0.0', '0.0', '1.0']\n",
      "['141', 'Ningxia', 'Mainland China', '1/24/2020 12:00 AM', '1.0', '0.0', '0.0', '0.0']\n",
      "['142', 'Inner Mongolia', 'Mainland China', '1/24/2020 12:00 AM', '1.0', '2.0', '0.0', '0.0']\n",
      "['143', 'Washington', 'United States', '1/24/2020 12:00 AM', '1.0', '0.0', '0.0', '0.0']\n",
      "['144', '0', 'Japan', '1/24/2020 12:00 AM', '2.0', '0.0', '0.0', '0.0']\n",
      "['145', '0', 'Thailand', '1/24/2020 12:00 AM', '4.0', '0.0', '0.0', '0.0']\n",
      "['146', '0', 'South Korea', '1/24/2020 12:00 AM', '1.0', '0.0', '0.0', '0.0']\n",
      "['147', '0', 'Singapore', '1/24/2020 12:00 AM', '1.0', '0.0', '0.0', '0.0']\n",
      "['148', '0', 'Vietnam', '1/24/2020 12:00 AM', '2.0', '0.0', '0.0', '0.0']\n",
      "['149', 'Hubei', 'Mainland China', '1/24/2020 12:00 PM', '549.0', '0.0', '31.0', '24.0']\n",
      "['150', 'Guangdong', 'Mainland China', '1/24/2020 12:00 PM', '53.0', '0.0', '2.0', '0.0']\n",
      "['151', 'Zhejiang', 'Mainland China', '1/24/2020 12:00 PM', '43.0', '0.0', '1.0', '0.0']\n",
      "['152', 'Beijing', 'Mainland China', '1/24/2020 12:00 PM', '36.0', '0.0', '1.0', '0.0']\n",
      "['153', 'Chongqing', 'Mainland China', '1/24/2020 12:00 PM', '27.0', '13.0', '0.0', '0.0']\n",
      "['154', 'Hunan', 'Mainland China', '1/24/2020 12:00 PM', '24.0', '0.0', '0.0', '0.0']\n",
      "['155', 'Guangxi', 'Mainland China', '1/24/2020 12:00 PM', '23.0', '0.0', '0.0', '0.0']\n",
      "['156', 'Shanghai', 'Mainland China', '1/24/2020 12:00 PM', '20.0', '22.0', '1.0', '0.0']\n",
      "['157', 'Jiangxi', 'Mainland China', '1/24/2020 12:00 PM', '18.0', '0.0', '0.0', '0.0']\n",
      "['158', 'Sichuan', 'Mainland China', '1/24/2020 12:00 PM', '15.0', '4.0', '0.0', '0.0']\n",
      "['159', 'Shandong', 'Mainland China', '1/24/2020 12:00 PM', '15.0', '0.0', '0.0', '0.0']\n",
      "['160', 'Anhui', 'Mainland China', '1/24/2020 12:00 PM', '15.0', '4.0', '0.0', '0.0']\n",
      "['161', 'Fujian', 'Mainland China', '1/24/2020 12:00 PM', '10.0', '2.0', '0.0', '0.0']\n",
      "['162', 'Henan', 'Mainland China', '1/24/2020 12:00 PM', '9.0', '42.0', '0.0', '0.0']\n",
      "['163', 'Jiangsu', 'Mainland China', '1/24/2020 12:00 PM', '9.0', '0.0', '0.0', '0.0']\n",
      "['164', 'Hainan', 'Mainland China', '1/24/2020 12:00 PM', '8.0', '32.0', '0.0', '0.0']\n",
      "['165', 'Tianjin', 'Mainland China', '1/24/2020 12:00 PM', '8.0', '0.0', '0.0', '0.0']\n",
      "['166', 'Yunnan', 'Mainland China', '1/24/2020 12:00 PM', '5.0', '0.0', '0.0', '0.0']\n",
      "['167', 'Shaanxi', 'Mainland China', '1/24/2020 12:00 PM', '5.0', '0.0', '0.0', '0.0']\n",
      "['168', 'Heilongjiang', 'Mainland China', '1/24/2020 12:00 PM', '4.0', '0.0', '0.0', '1.0']\n",
      "['169', 'Liaoning', 'Mainland China', '1/24/2020 12:00 PM', '4.0', '0.0', '0.0', '0.0']\n",
      "['170', 'Guizhou', 'Mainland China', '1/24/2020 12:00 PM', '3.0', '0.0', '0.0', '0.0']\n",
      "['171', 'Jilin', 'Mainland China', '1/24/2020 12:00 PM', '3.0', '0.0', '0.0', '0.0']\n",
      "['172', 'Taiwan', 'Taiwan', '1/24/2020 12:00 PM', '3.0', '0.0', '0.0', '0.0']\n",
      "['173', 'Ningxia', 'Mainland China', '1/24/2020 12:00 PM', '2.0', '1.0', '0.0', '0.0']\n",
      "['174', 'Hong Kong', 'Hong Kong', '1/24/2020 12:00 PM', '2.0', '36.0', '0.0', '0.0']\n",
      "['175', 'Macau', 'Macau', '1/24/2020 12:00 PM', '2.0', '0.0', '0.0', '0.0']\n",
      "['176', 'Hebei', 'Mainland China', '1/24/2020 12:00 PM', '2.0', '0.0', '0.0', '1.0']\n",
      "['177', 'Gansu', 'Mainland China', '1/24/2020 12:00 PM', '2.0', '0.0', '0.0', '0.0']\n",
      "['178', 'Xinjiang', 'Mainland China', '1/24/2020 12:00 PM', '2.0', '0.0', '0.0', '0.0']\n",
      "['179', 'Shanxi', 'Mainland China', '1/24/2020 12:00 PM', '1.0', '0.0', '0.0', '0.0']\n",
      "['180', 'Inner Mongolia', 'Mainland China', '1/24/2020 12:00 PM', '1.0', '2.0', '0.0', '0.0']\n",
      "['181', 'Qinghai', 'Mainland China', '1/24/2020 12:00 PM', '0.0', '1.0', '0.0', '0.0']\n",
      "['182', 'Washington', 'United States', '1/24/2020 12:00 PM', '1.0', '0.0', '0.0', '0.0']\n",
      "['183', 'Chicago', 'United States', '1/24/2020 12:00 PM', '1.0', '0.0', '0.0', '0.0']\n",
      "['184', '0', 'Japan', '1/24/2020 12:00 PM', '2.0', '0.0', '0.0', '0.0']\n",
      "['185', '0', 'Thailand', '1/24/2020 12:00 PM', '5.0', '0.0', '0.0', '0.0']\n",
      "['186', '0', 'South Korea', '1/24/2020 12:00 PM', '2.0', '0.0', '0.0', '0.0']\n",
      "['187', '0', 'Singapore', '1/24/2020 12:00 PM', '3.0', '0.0', '0.0', '0.0']\n",
      "['188', '0', 'Vietnam', '1/24/2020 12:00 PM', '2.0', '0.0', '0.0', '0.0']\n",
      "['189', '0', 'France', '1/24/2020 4:00 PM', '2.0', '0.0', '0.0', '0.0']\n",
      "['190', 'Hubei', 'Mainland China', '1/25/2020 12:00 AM', '729.0', '0.0', '32.0', '39.0']\n",
      "['191', 'Guangdong', 'Mainland China', '1/25/2020 12:00 AM', '78.0', '0.0', '2.0', '0.0']\n",
      "['192', 'Zhejiang', 'Mainland China', '1/25/2020 12:00 AM', '62.0', '0.0', '1.0', '0.0']\n",
      "['193', 'Chongqing', 'Mainland China', '1/25/2020 12:00 AM', '57.0', '0.0', '0.0', '0.0']\n",
      "['194', 'Hunan', 'Mainland China', '1/25/2020 12:00 AM', '43.0', '0.0', '0.0', '0.0']\n",
      "['195', 'Anhui', 'Mainland China', '1/25/2020 12:00 AM', '39.0', '4.0', '0.0', '0.0']\n",
      "['196', 'Beijing', 'Mainland China', '1/25/2020 12:00 AM', '36.0', '0.0', '1.0', '0.0']\n",
      "['197', 'Shanghai', 'Mainland China', '1/25/2020 12:00 AM', '33.0', '22.0', '1.0', '0.0']\n",
      "['198', 'Henan', 'Mainland China', '1/25/2020 12:00 AM', '32.0', '1.0', '0.0', '0.0']\n",
      "['199', 'Sichuan', 'Mainland China', '1/25/2020 12:00 AM', '28.0', '4.0', '0.0', '0.0']\n",
      "['200', 'Guangxi', 'Mainland China', '1/25/2020 12:00 AM', '23.0', '0.0', '0.0', '0.0']\n",
      "['201', 'Shandong', 'Mainland China', '1/25/2020 12:00 AM', '21.0', '0.0', '0.0', '0.0']\n",
      "['202', 'Jiangxi', 'Mainland China', '1/25/2020 12:00 AM', '18.0', '0.0', '0.0', '0.0']\n",
      "['203', 'Jiangsu', 'Mainland China', '1/25/2020 12:00 AM', '18.0', '0.0', '1.0', '0.0']\n",
      "['204', 'Hainan', 'Mainland China', '1/25/2020 12:00 AM', '17.0', '0.0', '0.0', '0.0']\n",
      "['205', 'Liaoning', 'Mainland China', '1/25/2020 12:00 AM', '15.0', '0.0', '0.0', '0.0']\n",
      "['206', 'Fujian', 'Mainland China', '1/25/2020 12:00 AM', '10.0', '4.0', '0.0', '0.0']\n",
      "['207', 'Heilongjiang', 'Mainland China', '1/25/2020 12:00 AM', '9.0', '0.0', '0.0', '1.0']\n",
      "['208', 'Tianjin', 'Mainland China', '1/25/2020 12:00 AM', '8.0', '0.0', '0.0', '0.0']\n",
      "['209', 'Hebei', 'Mainland China', '1/25/2020 12:00 AM', '8.0', '0.0', '0.0', '1.0']\n",
      "['210', 'Shanxi', 'Mainland China', '1/25/2020 12:00 AM', '6.0', '0.0', '0.0', '0.0']\n",
      "['211', 'Yunnan', 'Mainland China', '1/25/2020 12:00 AM', '5.0', '0.0', '0.0', '0.0']\n",
      "['212', 'Hong Kong', 'Hong Kong', '1/25/2020 12:00 AM', '5.0', '36.0', '0.0', '0.0']\n",
      "['213', 'Shaanxi', 'Mainland China', '1/25/2020 12:00 AM', '5.0', '0.0', '0.0', '0.0']\n",
      "['214', 'Guizhou', 'Mainland China', '1/25/2020 12:00 AM', '4.0', '0.0', '0.0', '0.0']\n",
      "['215', 'Jilin', 'Mainland China', '1/25/2020 12:00 AM', '4.0', '0.0', '0.0', '0.0']\n",
      "['216', 'Gansu', 'Mainland China', '1/25/2020 12:00 AM', '4.0', '0.0', '0.0', '0.0']\n",
      "['217', 'Ningxia', 'Mainland China', '1/25/2020 12:00 AM', '3.0', '1.0', '0.0', '0.0']\n",
      "['218', 'Taiwan', 'Taiwan', '1/25/2020 12:00 AM', '3.0', '0.0', '0.0', '0.0']\n",
      "['219', 'Xinjiang', 'Mainland China', '1/25/2020 12:00 AM', '3.0', '0.0', '0.0', '0.0']\n",
      "['220', 'Macau', 'Macau', '1/25/2020 12:00 AM', '2.0', '0.0', '0.0', '0.0']\n",
      "['221', 'Inner Mongolia', 'Mainland China', '1/25/2020 12:00 AM', '2.0', '0.0', '0.0', '0.0']\n",
      "['222', 'Qinghai', 'Mainland China', '1/25/2020 12:00 AM', '0.0', '1.0', '0.0', '0.0']\n",
      "['223', 'Washington', 'United States', '1/25/2020 12:00 AM', '1.0', '0.0', '0.0', '0.0']\n",
      "['224', 'Illinois', 'United States', '1/25/2020 12:00 AM', '1.0', '0.0', '0.0', '0.0']\n",
      "['225', '0', 'Japan', '1/25/2020 12:00 AM', '2.0', '0.0', '0.0', '0.0']\n",
      "['226', '0', 'Thailand', '1/25/2020 12:00 AM', '5.0', '0.0', '0.0', '0.0']\n",
      "['227', '0', 'South Korea', '1/25/2020 12:00 AM', '2.0', '0.0', '0.0', '0.0']\n",
      "['228', '0', 'Singapore', '1/25/2020 12:00 AM', '3.0', '0.0', '0.0', '0.0']\n",
      "['229', '0', 'Vietnam', '1/25/2020 12:00 AM', '2.0', '0.0', '0.0', '0.0']\n",
      "['230', '0', 'France', '1/25/2020 12:00 AM', '3.0', '0.0', '0.0', '0.0']\n",
      "['231', '0', 'Australia', '1/25/2020 12:00 AM', '1.0', '0.0', '0.0', '0.0']\n",
      "['232', '0', 'Nepal', '1/25/2020 12:00 AM', '1.0', '0.0', '0.0', '0.0']\n",
      "['233', '0', 'Malaysia', '1/25/2020 12:00 AM', '3.0', '0.0', '0.0', '0.0']\n",
      "['234', 'Hubei', 'Mainland China', '1/25/2020 12:00 PM', '761.0', '0.0', '32.0', '40.0']\n",
      "['235', 'Guangdong', 'Mainland China', '1/25/2020 12:00 PM', '78.0', '0.0', '2.0', '0.0']\n",
      "['236', 'Zhejiang', 'Mainland China', '1/25/2020 12:00 PM', '62.0', '0.0', '1.0', '0.0']\n",
      "['237', 'Chongqing', 'Mainland China', '1/25/2020 12:00 PM', '57.0', '0.0', '0.0', '0.0']\n",
      "['238', 'Hunan', 'Mainland China', '1/25/2020 12:00 PM', '43.0', '0.0', '0.0', '0.0']\n",
      "['239', 'Beijing', 'Mainland China', '1/25/2020 12:00 PM', '41.0', '0.0', '2.0', '0.0']\n",
      "['240', 'Anhui', 'Mainland China', '1/25/2020 12:00 PM', '39.0', '4.0', '0.0', '0.0']\n",
      "['241', 'Shanghai', 'Mainland China', '1/25/2020 12:00 PM', '33.0', '72.0', '1.0', '0.0']\n",
      "['242', 'Henan', 'Mainland China', '1/25/2020 12:00 PM', '32.0', '1.0', '0.0', '0.0']\n",
      "['243', 'Sichuan', 'Mainland China', '1/25/2020 12:00 PM', '28.0', '4.0', '0.0', '0.0']\n",
      "['244', 'Shandong', 'Mainland China', '1/25/2020 12:00 PM', '27.0', '0.0', '0.0', '0.0']\n",
      "['245', 'Guangxi', 'Mainland China', '1/25/2020 12:00 PM', '23.0', '0.0', '0.0', '0.0']\n",
      "['246', 'Hainan', 'Mainland China', '1/25/2020 12:00 PM', '19.0', '0.0', '0.0', '0.0']\n",
      "['247', 'Jiangxi', 'Mainland China', '1/25/2020 12:00 PM', '18.0', '0.0', '0.0', '0.0']\n",
      "['248', 'Fujian', 'Mainland China', '1/25/2020 12:00 PM', '18.0', '20.0', '0.0', '0.0']\n",
      "['249', 'Jiangsu', 'Mainland China', '1/25/2020 12:00 PM', '18.0', '0.0', '1.0', '0.0']\n",
      "['250', 'Liaoning', 'Mainland China', '1/25/2020 12:00 PM', '17.0', '0.0', '0.0', '0.0']\n",
      "['251', 'Shaanxi', 'Mainland China', '1/25/2020 12:00 PM', '15.0', '0.0', '0.0', '0.0']\n",
      "['252', 'Yunnan', 'Mainland China', '1/25/2020 12:00 PM', '11.0', '58.0', '0.0', '0.0']\n",
      "['253', 'Tianjin', 'Mainland China', '1/25/2020 12:00 PM', '10.0', '0.0', '0.0', '0.0']\n",
      "['254', 'Heilongjiang', 'Mainland China', '1/25/2020 12:00 PM', '9.0', '0.0', '0.0', '1.0']\n",
      "['255', 'Hebei', 'Mainland China', '1/25/2020 12:00 PM', '8.0', '0.0', '0.0', '1.0']\n",
      "['256', 'Inner Mongolia', 'Mainland China', '1/25/2020 12:00 PM', '7.0', '0.0', '0.0', '0.0']\n",
      "['257', 'Shanxi', 'Mainland China', '1/25/2020 12:00 PM', '6.0', '0.0', '0.0', '0.0']\n",
      "['258', 'Hong Kong', 'Hong Kong', '1/25/2020 12:00 PM', '5.0', '244.0', '0.0', '0.0']\n",
      "['259', 'Guizhou', 'Mainland China', '1/25/2020 12:00 PM', '4.0', '0.0', '0.0', '0.0']\n",
      "['260', 'Jilin', 'Mainland China', '1/25/2020 12:00 PM', '4.0', '0.0', '0.0', '0.0']\n",
      "['261', 'Gansu', 'Mainland China', '1/25/2020 12:00 PM', '4.0', '0.0', '0.0', '0.0']\n",
      "['262', 'Ningxia', 'Mainland China', '1/25/2020 12:00 PM', '3.0', '1.0', '0.0', '0.0']\n",
      "['263', 'Taiwan', 'Taiwan', '1/25/2020 12:00 PM', '3.0', '0.0', '0.0', '0.0']\n",
      "['264', 'Xinjiang', 'Mainland China', '1/25/2020 12:00 PM', '3.0', '0.0', '0.0', '0.0']\n",
      "['265', 'Macau', 'Macau', '1/25/2020 12:00 PM', '2.0', '0.0', '0.0', '0.0']\n",
      "['266', 'Qinghai', 'Mainland China', '1/25/2020 12:00 PM', '1.0', '0.0', '0.0', '0.0']\n",
      "['267', 'Washington', 'United States', '1/25/2020 12:00 PM', '1.0', '0.0', '0.0', '0.0']\n",
      "['268', 'Illinois', 'United States', '1/25/2020 12:00 PM', '1.0', '0.0', '0.0', '0.0']\n",
      "['269', '0', 'Japan', '1/25/2020 12:00 PM', '2.0', '0.0', '0.0', '0.0']\n",
      "['270', '0', 'Thailand', '1/25/2020 12:00 PM', '7.0', '0.0', '0.0', '0.0']\n",
      "['271', '0', 'South Korea', '1/25/2020 12:00 PM', '2.0', '0.0', '0.0', '0.0']\n",
      "['272', '0', 'Singapore', '1/25/2020 12:00 PM', '3.0', '0.0', '0.0', '0.0']\n",
      "['273', '0', 'Vietnam', '1/25/2020 12:00 PM', '2.0', '0.0', '0.0', '0.0']\n",
      "['274', '0', 'France', '1/25/2020 12:00 PM', '3.0', '0.0', '0.0', '0.0']\n",
      "['275', '0', 'Australia', '1/25/2020 12:00 PM', '4.0', '0.0', '0.0', '0.0']\n",
      "['276', '0', 'Nepal', '1/25/2020 12:00 PM', '1.0', '0.0', '0.0', '0.0']\n",
      "['277', '0', 'Malaysia', '1/25/2020 12:00 PM', '3.0', '0.0', '0.0', '0.0']\n",
      "['278', 'Hubei', 'Mainland China', '1/25/2020 10:00 PM', '1052.0', '0.0', '42.0', '52.0']\n",
      "['279', 'Zhejiang', 'Mainland China', '1/25/2020 10:00 PM', '104.0', '0.0', '1.0', '0.0']\n",
      "['280', 'Guangdong', 'Mainland China', '1/25/2020 12:00 PM', '98.0', '0.0', '2.0', '0.0']\n",
      "['281', 'Henan', 'Mainland China', '1/25/2020 12:00 PM', '83.0', '3.0', '0.0', '1.0']\n",
      "['282', 'Chongqing', 'Mainland China', '1/25/2020 12:00 PM', '75.0', '0.0', '0.0', '0.0']\n",
      "['283', 'Hunan', 'Mainland China', '1/25/2020 12:00 PM', '69.0', '0.0', '0.0', '0.0']\n",
      "['284', 'Anhui', 'Mainland China', '1/25/2020 12:00 PM', '60.0', '4.0', '0.0', '0.0']\n",
      "['285', 'Beijing', 'Mainland China', '1/25/2020 12:00 PM', '51.0', '0.0', '2.0', '0.0']\n",
      "['286', 'Sichuan', 'Mainland China', '1/25/2020 12:00 PM', '44.0', '4.0', '0.0', '0.0']\n",
      "['287', 'Shanghai', 'Mainland China', '1/25/2020 12:00 PM', '40.0', '72.0', '1.0', '1.0']\n",
      "['288', 'Shandong', 'Mainland China', '1/25/2020 12:00 PM', '39.0', '0.0', '0.0', '0.0']\n",
      "['289', 'Jiangxi', 'Mainland China', '1/25/2020 12:00 PM', '36.0', '0.0', '0.0', '0.0']\n",
      "['290', 'Guangxi', 'Mainland China', '1/25/2020 12:00 PM', '33.0', '0.0', '0.0', '0.0']\n",
      "['291', 'Jiangsu', 'Mainland China', '1/25/2020 12:00 PM', '31.0', '0.0', '1.0', '0.0']\n",
      "['292', 'Hainan', 'Mainland China', '1/25/2020 12:00 PM', '19.0', '0.0', '0.0', '0.0']\n",
      "['293', 'Liaoning', 'Mainland China', '1/25/2020 12:00 PM', '19.0', '0.0', '0.0', '0.0']\n",
      "['294', 'Fujian', 'Mainland China', '1/25/2020 12:00 PM', '18.0', '20.0', '0.0', '1.0']\n",
      "['295', 'Heilongjiang', 'Mainland China', '1/25/2020 12:00 PM', '15.0', '0.0', '0.0', '0.0']\n",
      "['296', 'Shaanxi', 'Mainland China', '1/25/2020 12:00 PM', '15.0', '0.0', '0.0', '0.0']\n",
      "['297', 'Tianjin', 'Mainland China', '1/25/2020 12:00 PM', '13.0', '0.0', '0.0', '0.0']\n",
      "['298', 'Hebei', 'Mainland China', '1/25/2020 12:00 PM', '13.0', '0.0', '0.0', '1.0']\n",
      "['299', 'Yunnan', 'Mainland China', '1/25/2020 12:00 PM', '11.0', '58.0', '0.0', '0.0']\n",
      "['300', 'Shanxi', 'Mainland China', '1/25/2020 12:00 PM', '9.0', '0.0', '0.0', '0.0']\n",
      "['301', 'Inner Mongolia', 'Mainland China', '1/25/2020 12:00 PM', '7.0', '0.0', '0.0', '0.0']\n",
      "['302', 'Gansu', 'Mainland China', '1/25/2020 12:00 PM', '7.0', '0.0', '0.0', '0.0']\n",
      "['303', 'Guizhou', 'Mainland China', '1/25/2020 12:00 PM', '5.0', '0.0', '0.0', '0.0']\n",
      "['304', 'Hong Kong', 'Hong Kong', '1/25/2020 12:00 PM', '5.0', '244.0', '0.0', '0.0']\n",
      "['305', 'Ningxia', 'Mainland China', '1/25/2020 12:00 PM', '4.0', '1.0', '0.0', '0.0']\n",
      "['306', 'Jilin', 'Mainland China', '1/25/2020 12:00 PM', '4.0', '0.0', '0.0', '0.0']\n",
      "['307', 'Xinjiang', 'Mainland China', '1/25/2020 12:00 PM', '4.0', '0.0', '0.0', '0.0']\n",
      "['308', 'Taiwan', 'Taiwan', '1/25/2020 12:00 PM', '3.0', '0.0', '0.0', '0.0']\n",
      "['309', 'Macau', 'Macau', '1/25/2020 12:00 PM', '2.0', '0.0', '0.0', '0.0']\n",
      "['310', 'Qinghai', 'Mainland China', '1/25/2020 12:00 PM', '1.0', '0.0', '0.0', '0.0']\n",
      "['311', 'Washington', 'United States', '1/25/2020 12:00 PM', '1.0', '0.0', '0.0', '0.0']\n",
      "['312', 'Illinois', 'United States', '1/25/2020 12:00 PM', '1.0', '0.0', '0.0', '0.0']\n",
      "['313', '0', 'Japan', '1/25/2020 12:00 PM', '2.0', '0.0', '0.0', '0.0']\n",
      "['314', '0', 'Thailand', '1/25/2020 12:00 PM', '7.0', '0.0', '0.0', '0.0']\n",
      "['315', '0', 'South Korea', '1/25/2020 12:00 PM', '3.0', '0.0', '0.0', '0.0']\n",
      "['316', '0', 'Singapore', '1/25/2020 12:00 PM', '3.0', '0.0', '0.0', '0.0']\n",
      "['317', '0', 'Vietnam', '1/25/2020 12:00 PM', '2.0', '0.0', '0.0', '0.0']\n",
      "['318', '0', 'France', '1/25/2020 12:00 PM', '3.0', '0.0', '0.0', '0.0']\n",
      "['319', '0', 'Australia', '1/25/2020 12:00 PM', '4.0', '0.0', '0.0', '0.0']\n",
      "['320', '0', 'Nepal', '1/25/2020 12:00 PM', '1.0', '0.0', '0.0', '0.0']\n",
      "['321', '0', 'Malaysia', '1/25/2020 12:00 PM', '3.0', '0.0', '0.0', '0.0']\n",
      "['322', 'Hubei', 'Mainland China', '1/26/2020 11:00 AM', '1058.0', '0.0', '42.0', '52.0']\n",
      "['323', 'Guangdong', 'Mainland China', '1/26/2020 11:00 AM', '111.0', '0.0', '2.0', '0.0']\n",
      "['324', 'Zhejiang', 'Mainland China', '1/26/2020 11:00 AM', '104.0', '0.0', '1.0', '0.0']\n",
      "['325', 'Henan', 'Mainland China', '1/26/2020 11:00 AM', '83.0', '3.0', '0.0', '1.0']\n",
      "['326', 'Chongqing', 'Mainland China', '1/26/2020 11:00 AM', '75.0', '0.0', '0.0', '0.0']\n",
      "['327', 'Hunan', 'Mainland China', '1/26/2020 11:00 AM', '69.0', '0.0', '0.0', '0.0']\n",
      "['328', 'Beijing', 'Mainland China', '1/26/2020 11:00 AM', '68.0', '0.0', '2.0', '0.0']\n",
      "['329', 'Anhui', 'Mainland China', '1/26/2020 11:00 AM', '60.0', '4.0', '0.0', '0.0']\n",
      "['330', 'Shandong', 'Mainland China', '1/26/2020 11:00 AM', '46.0', '0.0', '0.0', '0.0']\n",
      "['331', 'Sichuan', 'Mainland China', '1/26/2020 11:00 AM', '44.0', '4.0', '0.0', '0.0']\n",
      "['332', 'Shanghai', 'Mainland China', '1/26/2020 11:00 AM', '40.0', '72.0', '1.0', '1.0']\n",
      "['333', 'Guangxi', 'Mainland China', '1/26/2020 11:00 AM', '36.0', '0.0', '0.0', '0.0']\n",
      "['334', 'Jiangxi', 'Mainland China', '1/26/2020 11:00 AM', '36.0', '0.0', '0.0', '0.0']\n",
      "['335', 'Fujian', 'Mainland China', '1/26/2020 11:00 AM', '35.0', '20.0', '0.0', '0.0']\n",
      "['336', 'Jiangsu', 'Mainland China', '1/26/2020 11:00 AM', '33.0', '0.0', '1.0', '0.0']\n",
      "['337', 'Hainan', 'Mainland China', '1/26/2020 11:00 AM', '22.0', '0.0', '0.0', '0.0']\n",
      "['338', 'Shaanxi', 'Mainland China', '1/26/2020 11:00 AM', '22.0', '0.0', '0.0', '0.0']\n",
      "['339', 'Liaoning', 'Mainland China', '1/26/2020 11:00 AM', '21.0', '0.0', '0.0', '0.0']\n",
      "['340', 'Yunnan', 'Mainland China', '1/26/2020 11:00 AM', '16.0', '36.0', '0.0', '0.0']\n",
      "['341', 'Heilongjiang', 'Mainland China', '1/26/2020 11:00 AM', '15.0', '0.0', '0.0', '1.0']\n",
      "['342', 'Tianjin', 'Mainland China', '1/26/2020 11:00 AM', '14.0', '0.0', '0.0', '0.0']\n",
      "['343', 'Hebei', 'Mainland China', '1/26/2020 11:00 AM', '13.0', '0.0', '0.0', '1.0']\n",
      "['344', 'Shanxi', 'Mainland China', '1/26/2020 11:00 AM', '9.0', '0.0', '0.0', '0.0']\n",
      "['345', 'Hong Kong', 'Hong Kong', '1/26/2020 11:00 AM', '8.0', '244.0', '0.0', '0.0']\n",
      "['346', 'Inner Mongolia', 'Mainland China', '1/26/2020 11:00 AM', '7.0', '0.0', '0.0', '0.0']\n",
      "['347', 'Gansu', 'Mainland China', '1/26/2020 11:00 AM', '7.0', '0.0', '0.0', '0.0']\n",
      "['348', 'Guizhou', 'Mainland China', '1/26/2020 11:00 AM', '5.0', '0.0', '0.0', '0.0']\n",
      "['349', 'Macau', 'Macau', '1/26/2020 11:00 AM', '5.0', '0.0', '0.0', '0.0']\n",
      "['350', 'Ningxia', 'Mainland China', '1/26/2020 11:00 AM', '4.0', '0.0', '0.0', '0.0']\n",
      "['351', 'Jilin', 'Mainland China', '1/26/2020 11:00 AM', '4.0', '0.0', '0.0', '0.0']\n",
      "['352', 'Taiwan', 'Taiwan', '1/26/2020 11:00 AM', '4.0', '0.0', '0.0', '0.0']\n",
      "['353', 'Xinjiang', 'Mainland China', '1/26/2020 11:00 AM', '4.0', '0.0', '0.0', '0.0']\n",
      "['354', 'Qinghai', 'Mainland China', '1/26/2020 11:00 AM', '1.0', '0.0', '0.0', '0.0']\n",
      "['355', 'Washington', 'United States', '1/26/2020 11:00 AM', '1.0', '0.0', '0.0', '0.0']\n",
      "['356', 'Illinois', 'United States', '1/26/2020 11:00 AM', '1.0', '0.0', '0.0', '0.0']\n",
      "['357', 'California', 'United States', '1/26/2020 11:00 AM', '1.0', '0.0', '0.0', '0.0']\n",
      "['358', '0', 'Japan', '1/26/2020 11:00 AM', '4.0', '0.0', '1.0', '0.0']\n",
      "['359', '0', 'Thailand', '1/26/2020 11:00 AM', '8.0', '0.0', '2.0', '0.0']\n",
      "['360', '0', 'South Korea', '1/26/2020 11:00 AM', '3.0', '0.0', '0.0', '0.0']\n",
      "['361', '0', 'Singapore', '1/26/2020 11:00 AM', '4.0', '0.0', '0.0', '0.0']\n",
      "['362', '0', 'Vietnam', '1/26/2020 11:00 AM', '2.0', '0.0', '0.0', '0.0']\n",
      "['363', '0', 'France', '1/26/2020 11:00 AM', '3.0', '0.0', '0.0', '0.0']\n",
      "['364', '0', 'Australia', '1/26/2020 11:00 AM', '4.0', '0.0', '0.0', '0.0']\n",
      "['365', '0', 'Nepal', '1/26/2020 11:00 AM', '1.0', '0.0', '0.0', '0.0']\n",
      "['366', '0', 'Malaysia', '1/26/2020 11:00 AM', '4.0', '0.0', '0.0', '0.0']\n",
      "['367', 'Ontario', 'Canada', '1/26/2020 11:00 AM', '1.0', '0.0', '0.0', '0.0']\n",
      "In Mainland China, the corana virus has 10053.0 confirmed dead, 839.0 suspected dead, and 275.0 recovered.\n"
     ]
    }
   ],
   "source": [
    "import csv\n",
    "\n",
    "confirmed_d = 0\n",
    "suspected_d = 0\n",
    "recovered = 0\n",
    "with open('2019_cor.csv') as cor:\n",
    "    corona = csv.reader(cor)\n",
    "    counter = 0\n",
    "\n",
    "    for rows in corona:\n",
    "        print(rows)\n",
    "        country = rows[2]\n",
    "        conf = rows[4]\n",
    "        sus = rows[5]\n",
    "        recov = rows[6]\n",
    "        if country == 'Mainland China':\n",
    "            confirmed_d += float(conf)\n",
    "            suspected_d += float(sus)\n",
    "            recovered += float(recov)\n",
    "\n",
    "print(\"In Mainland China, the corana virus has {} confirmed dead, {} suspected dead, and {} recovered.\".format(confirmed_d, suspected_d, recovered))"
   ]
  },
  {
   "cell_type": "code",
   "execution_count": null,
   "metadata": {},
   "outputs": [],
   "source": []
  }
 ],
 "metadata": {
  "celltoolbar": "Create Assignment",
  "kernelspec": {
   "display_name": "Python 3",
   "language": "python",
   "name": "python3"
  },
  "language_info": {
   "codemirror_mode": {
    "name": "ipython",
    "version": 3
   },
   "file_extension": ".py",
   "mimetype": "text/x-python",
   "name": "python",
   "nbconvert_exporter": "python",
   "pygments_lexer": "ipython3",
   "version": "3.6.7"
  }
 },
 "nbformat": 4,
 "nbformat_minor": 2
}

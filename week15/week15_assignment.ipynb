{
 "cells": [
  {
   "cell_type": "markdown",
   "metadata": {
    "nbgrader": {
     "grade": false,
     "grade_id": "intro",
     "locked": true,
     "schema_version": 1,
     "solution": false
    }
   },
   "source": [
    "# Working with a database\n",
    "\n",
    "This week's assignment has a few basic steps.  First, we're going to pull some data down off the internet and store it into our MySQL database.  Make sure that you use your username as part of the table name as show in the examples so that you don't create a problem for other students.\n",
    "\n",
    "Then, we'll merge that with some data already in the database and calculate a few results.  When it comes to calculating the results, you can do so either with SQL or with Pandas operations.\n"
   ]
  },
  {
   "cell_type": "markdown",
   "metadata": {
    "nbgrader": {
     "grade": false,
     "grade_id": "q01-intro",
     "locked": true,
     "schema_version": 1,
     "solution": false
    }
   },
   "source": [
    "## PART 1: Setup your database connection and table name\n",
    "\n",
    "In the code below, change the value of the variable `MYTABLE` to use your own username rather that `'pboal'`\n",
    "\n",
    "You can then use `MYTABLE` in the rest of your code to reference that table name."
   ]
  },
  {
   "cell_type": "code",
   "execution_count": 1,
   "metadata": {
    "nbgrader": {
     "grade": false,
     "grade_id": "q01-solution",
     "locked": false,
     "schema_version": 1,
     "solution": true
    }
   },
   "outputs": [
    {
     "name": "stdout",
     "output_type": "stream",
     "text": [
      "apuryear_data\n"
     ]
    }
   ],
   "source": [
    "#!#!#!#!#!#!#!#!#!#!#!#!#!#!#!#!#!#!#!#!#!#!#!#!#!#!#!#!#!#!\n",
    "# First, put in your user name below\n",
    "#!#!#!#!#!#!#!#!#!#!#!#!#!#!#!#!#!#!#!#!#!#!#!#!#!#!#!#!#!#!\n",
    "import os\n",
    "import pymysql\n",
    "from sqlalchemy import create_engine\n",
    "import pandas as pd\n",
    "import requests\n",
    "from bs4 import BeautifulSoup\n",
    "MYTABLE='apuryear' + '_data'\n",
    "\n",
    "\n",
    "# Then, create a connection to the same database, using the \n",
    "# same user name and password in the `mysql-examples.ipynb` \n",
    "# file.  Use conn as the database connection variable.\n",
    "host = 'slucor2020.cgdcoitnku0k.us-east-1.rds.amazonaws.com'\n",
    "port = '3306'\n",
    "user = 'slucor2020'\n",
    "password = 'SLUcor2020'\n",
    "database = 'hds5210'\n",
    "\n",
    "conn = create_engine('mysql+pymysql://' + \n",
    "                     user + ':' + \n",
    "                     password + '@' + \n",
    "                     host + '/' + \n",
    "                     database, echo=False)\n",
    "print(MYTABLE)"
   ]
  },
  {
   "cell_type": "code",
   "execution_count": 2,
   "metadata": {
    "nbgrader": {
     "grade": true,
     "grade_id": "q01-tests",
     "locked": true,
     "points": 5,
     "schema_version": 1,
     "solution": false
    }
   },
   "outputs": [],
   "source": [
    "assert(MYTABLE != 'paulboal_data')\n",
    "assert(conn.connect())"
   ]
  },
  {
   "cell_type": "markdown",
   "metadata": {
    "nbgrader": {
     "grade": false,
     "grade_id": "q02-intro",
     "locked": true,
     "schema_version": 1,
     "solution": false
    }
   },
   "source": [
    "## PART 2: Bring in outside data\n",
    "\n",
    "Grab the data from this URL and put it into a database table named with your `username_data`.\n",
    "\n",
    "http://dhcs-chhsagency.opendata.arcgis.com/datasets/8e4f3a0c75b9424d888d11c1f949cc32_0.csv\n",
    "\n",
    "By the end of your cell, the table should be created.  The tests are going to verify that the table exists and looks right."
   ]
  },
  {
   "cell_type": "code",
   "execution_count": 3,
   "metadata": {
    "nbgrader": {
     "grade": false,
     "grade_id": "q02-solution",
     "locked": false,
     "schema_version": 1,
     "solution": true
    }
   },
   "outputs": [
    {
     "name": "stdout",
     "output_type": "stream",
     "text": [
      "(328, 19)\n",
      "NPI\n",
      "Provider_Name\n",
      "Test\n",
      "aavila_data\n",
      "aavila_data_NPI\n",
      "aavila_data_new\n",
      "aavila_data_year\n",
      "aavila_datax\n",
      "abbieslu\n",
      "abbieslu_NPI\n",
      "abbieslu_ipv\n",
      "abbieslu_npi\n",
      "abbieslu_year\n",
      "achenliam\n",
      "achenliam_data\n",
      "achenliam_ipv\n",
      "apuryear_data\n",
      "arefehesmaeilpour_data\n",
      "ashley_data\n",
      "btabman_data\n",
      "corona_counts\n",
      "county_population\n",
      "dhumphrey420_data\n",
      "ed_visits\n",
      "hospital_services\n",
      "hospitals\n",
      "jdgendron_data\n",
      "jmccar23_data\n",
      "kaylaschmidt_data\n",
      "kenny0415_data\n",
      "khalafh_data\n",
      "lchen_data_ipv\n",
      "liannecota_data\n",
      "paulboal_data\n",
      "population\n",
      "ppp_data\n",
      "qichen_data\n",
      "sam\n",
      "sampele\n",
      "srai_data\n",
      "system_affiliations\n",
      "ttt_data\n",
      "x\n"
     ]
    },
    {
     "data": {
      "text/plain": [
       "Index(['Provider_Name', 'NPI', 'CCN', 'Medicaid_EP_Hospital_Type',\n",
       "       'Street_Address', 'City', 'County', 'State', 'Zip_Code',\n",
       "       'Payment_Year_Number', 'Program_Type', 'Total_payments',\n",
       "       'Last_Program_Year', 'Last_Payment_Year', 'Last_Payment_Criteria',\n",
       "       'Most_Recent_Disbursement_Amount', 'LONGITUDE', 'LATITUDE', 'FID'],\n",
       "      dtype='object')"
      ]
     },
     "execution_count": 3,
     "metadata": {},
     "output_type": "execute_result"
    }
   ],
   "source": [
    "url = 'http://dhcs-chhsagency.opendata.arcgis.com/datasets/8e4f3a0c75b9424d888d11c1f949cc32_0.csv'\n",
    "\n",
    "### SOLUTION GOES HERE\n",
    "import getpass\n",
    "x = pd.read_csv(url)\n",
    "apuryear_data = pd.DataFrame(x)\n",
    "print(apuryear_data.shape)\n",
    "\n",
    "tables = {}\n",
    "df = pd.read_sql_query(\"SHOW TABLES\", conn)\n",
    "df\n",
    "for n,t in pd.read_sql_query(\"SHOW TABLES\", conn).iterrows():\n",
    "    name = str(t['Tables_in_hds5210'])\n",
    "    print(name)\n",
    "    tables[name] = pd.read_sql(\"SELECT * FROM \"+name,conn)\n",
    "\n",
    "\n",
    "\n",
    "dxyz = pd.read_sql_query('SELECT * FROM ' + MYTABLE, conn)\n",
    "dxyz.shape\n",
    "apuryear_data.columns"
   ]
  },
  {
   "cell_type": "code",
   "execution_count": 4,
   "metadata": {
    "nbgrader": {
     "grade": true,
     "grade_id": "q02-tests",
     "locked": true,
     "points": 5,
     "schema_version": 1,
     "solution": false
    }
   },
   "outputs": [],
   "source": [
    "dxyz = pd.read_sql_query('SELECT * FROM ' + MYTABLE, conn)\n",
    "assert(dxyz.shape == (328,19))\n",
    "assert(list(dxyz.columns) == ['Provider_Name', 'NPI', 'CCN',\n",
    "       'Medicaid_EP_Hospital_Type', 'Street_Address', 'City', 'County',\n",
    "       'State', 'Zip_Code', 'Payment_Year_Number', 'Program_Type',\n",
    "       'Total_payments', 'Last_Program_Year', 'Last_Payment_Year',\n",
    "       'Last_Payment_Criteria', 'Most_Recent_Disbursement_Amount', 'LONGITUDE',\n",
    "       'LATITUDE', 'FID'])"
   ]
  },
  {
   "cell_type": "markdown",
   "metadata": {
    "nbgrader": {
     "grade": false,
     "grade_id": "q03-intro",
     "locked": true,
     "schema_version": 1,
     "solution": false
    }
   },
   "source": [
    "## PART 3: Combine with other data in the database\n",
    "\n",
    "In the database, there is an existing table called `population`.  We want to merge the DHCS datafile loaded above with the population data available in this other database table  The tables can be merged on `MYTABLE`'s `Zip_Code` field and `population`'s `zipcode` field.\n",
    "\n",
    "Note that not all `Zip_Codes` from your downloaded file have to be in the `population` table.  If they aren't, then I want you to eliminate the non-matching records.  That is, only keep the records that have a matching ZIP code in both sets of data.\n",
    "\n",
    "Answer the question:\n",
    "Which providers are located in the zipcode with the largest population?\n",
    "\n",
    "Put your answer in the form `answer = ['a', 'list', 'of', 'NPI', 'like', '1593042103]`"
   ]
  },
  {
   "cell_type": "code",
   "execution_count": 5,
   "metadata": {
    "nbgrader": {
     "grade": false,
     "grade_id": "q03-solution",
     "locked": false,
     "schema_version": 1,
     "solution": true
    }
   },
   "outputs": [
    {
     "name": "stdout",
     "output_type": "stream",
     "text": [
      "NPI\n",
      "Provider_Name\n",
      "Test\n",
      "aavila_data\n",
      "aavila_data_NPI\n",
      "aavila_data_new\n",
      "aavila_data_year\n",
      "aavila_datax\n",
      "abbieslu\n",
      "abbieslu_NPI\n",
      "abbieslu_ipv\n",
      "abbieslu_npi\n",
      "abbieslu_year\n",
      "achenliam\n",
      "achenliam_data\n",
      "achenliam_ipv\n",
      "apuryear_data\n",
      "arefehesmaeilpour_data\n",
      "ashley_data\n",
      "btabman_data\n",
      "corona_counts\n",
      "county_population\n",
      "dhumphrey420_data\n",
      "ed_visits\n",
      "hospital_services\n",
      "hospitals\n",
      "jdgendron_data\n",
      "jmccar23_data\n",
      "kaylaschmidt_data\n",
      "kenny0415_data\n",
      "khalafh_data\n",
      "lchen_data_ipv\n",
      "liannecota_data\n",
      "paulboal_data\n",
      "population\n",
      "ppp_data\n",
      "qichen_data\n",
      "sam\n",
      "sampele\n",
      "srai_data\n",
      "system_affiliations\n",
      "ttt_data\n",
      "x\n",
      "(87, 25)\n",
      "105549\n",
      "(87, 25)\n",
      "[1194016923]\n"
     ]
    }
   ],
   "source": [
    "### SOLUTION GOES HERE\n",
    "answer = []\n",
    "pd.read_sql_query('SHOW TABLES', conn)\n",
    "df = pd.read_sql_query(\"SHOW TABLES\", conn)\n",
    "\n",
    "tables = {}\n",
    "\n",
    "for n,t in pd.read_sql_query(\"SHOW TABLES\", conn).iterrows():\n",
    "    name = str(t['Tables_in_hds5210'])\n",
    "    print(name)\n",
    "    tables[name] = pd.read_sql(\"SELECT * FROM \"+name,conn)\n",
    "puryear = tables['apuryear_data']\n",
    "pop = tables['population']\n",
    "\n",
    "puryear = puryear.rename(columns={'Zip_Code': 'zipcode'})\n",
    "# display(puryear.head())\n",
    "# display(pop.head())\n",
    "puryear['zipcode'] = puryear['zipcode'].astype(int)\n",
    "pop['zipcode'] = pop['zipcode'].astype(int)\n",
    "# print(pop['zipcode'])\n",
    "# print(puryear['Zip_Code'])\n",
    "data = puryear.merge(pop, how='inner', left_on ='zipcode', right_on = 'zipcode') #meged the datasets\n",
    "print(data.shape)\n",
    "# data.head()\n",
    "x = data.population.max()\n",
    "print(x)\n",
    "print(data.shape)\n",
    "for index, row in data.iterrows():\n",
    "    if row['population'] == data.population.max():\n",
    "        answer.append(row['NPI'])\n",
    "print(answer)\n"
   ]
  },
  {
   "cell_type": "code",
   "execution_count": 6,
   "metadata": {
    "nbgrader": {
     "grade": true,
     "grade_id": "q03-tests",
     "locked": true,
     "points": 5,
     "schema_version": 1,
     "solution": false
    }
   },
   "outputs": [],
   "source": [
    "assert(type(answer) == list)\n",
    "assert(answer ==[1194016923])"
   ]
  },
  {
   "cell_type": "markdown",
   "metadata": {
    "nbgrader": {
     "grade": false,
     "grade_id": "q04-intro",
     "locked": true,
     "schema_version": 1,
     "solution": false
    }
   },
   "source": [
    "## PART 4: Total by hospital type\n",
    "\n",
    "This is a multistep process:\n",
    "* From our downloaded data file, compute the `Total payments` per ZIP code and Medicaid EP Hospital Type.\n",
    "* Then merge that with the `population` data to compute a `Total payments` per person.\n",
    "* Then average that across all of the `Medicaid EP Hospital Types` to get an average per persona payment for these type of hospital.\n",
    "\n",
    "Your answer should be in structure of a data frame with at least two columns:\n",
    "* Medicaid_EP_Hospital_Type\n",
    "* Avg_Pay_per_Capita"
   ]
  },
  {
   "cell_type": "code",
   "execution_count": 7,
   "metadata": {
    "nbgrader": {
     "grade": false,
     "grade_id": "q04-solution",
     "locked": false,
     "schema_version": 1,
     "solution": true
    }
   },
   "outputs": [
    {
     "data": {
      "text/html": [
       "<div>\n",
       "<style scoped>\n",
       "    .dataframe tbody tr th:only-of-type {\n",
       "        vertical-align: middle;\n",
       "    }\n",
       "\n",
       "    .dataframe tbody tr th {\n",
       "        vertical-align: top;\n",
       "    }\n",
       "\n",
       "    .dataframe thead th {\n",
       "        text-align: right;\n",
       "    }\n",
       "</style>\n",
       "<table border=\"1\" class=\"dataframe\">\n",
       "  <thead>\n",
       "    <tr style=\"text-align: right;\">\n",
       "      <th></th>\n",
       "      <th>Medicaid_EP_Hospital_Type</th>\n",
       "      <th>Avg_Pay_per_Capita</th>\n",
       "    </tr>\n",
       "  </thead>\n",
       "  <tbody>\n",
       "    <tr>\n",
       "      <th>0</th>\n",
       "      <td>Acute Care Hospitals</td>\n",
       "      <td>17974.362790</td>\n",
       "    </tr>\n",
       "    <tr>\n",
       "      <th>1</th>\n",
       "      <td>Children's Hospitals</td>\n",
       "      <td>111.559021</td>\n",
       "    </tr>\n",
       "  </tbody>\n",
       "</table>\n",
       "</div>"
      ],
      "text/plain": [
       "  Medicaid_EP_Hospital_Type  Avg_Pay_per_Capita\n",
       "0      Acute Care Hospitals        17974.362790\n",
       "1      Children's Hospitals          111.559021"
      ]
     },
     "execution_count": 7,
     "metadata": {},
     "output_type": "execute_result"
    }
   ],
   "source": [
    "### SOLUTION GOES HERE\n",
    "answer = None\n",
    "x = pd.read_csv(url)\n",
    "apuryear_data = pd.DataFrame(x)\n",
    "data1 = apuryear_data.groupby(['Zip_Code','Medicaid_EP_Hospital_Type'])['Total_payments'].sum().reset_index()\n",
    "# print(data1)\n",
    "data1 = data1.rename(columns={'Zip_Code': 'zipcode'})\n",
    "# print(data1)\n",
    "# print(pop.head())\n",
    "data2 = data1.merge(tables['population'], how='inner', left_on ='zipcode', right_on = 'zipcode')\n",
    "data2['Avg_Pay_per_Capita'] = data2['Total_payments']/data2['population']\n",
    "answer = data2.groupby(['Medicaid_EP_Hospital_Type'])['Avg_Pay_per_Capita'].mean().reset_index()\n",
    "answer"
   ]
  },
  {
   "cell_type": "code",
   "execution_count": 8,
   "metadata": {
    "nbgrader": {
     "grade": true,
     "grade_id": "q04-tests",
     "locked": true,
     "points": 5,
     "schema_version": 1,
     "solution": false
    }
   },
   "outputs": [],
   "source": [
    "assert(type(answer) == pd.core.frame.DataFrame)\n",
    "assert(round(answer.query(\"Medicaid_EP_Hospital_Type == 'Acute Care Hospitals'\")['Avg_Pay_per_Capita'].sum(),3) == 17974.363)\n",
    "assert(round(answer.query(\"Medicaid_EP_Hospital_Type == 'Children\\\\'s Hospitals'\")['Avg_Pay_per_Capita'].sum(),3) == 111.559)\n"
   ]
  }
 ],
 "metadata": {
  "celltoolbar": "Create Assignment",
  "kernelspec": {
   "display_name": "Python 3",
   "language": "python",
   "name": "python3"
  },
  "language_info": {
   "codemirror_mode": {
    "name": "ipython",
    "version": 3
   },
   "file_extension": ".py",
   "mimetype": "text/x-python",
   "name": "python",
   "nbconvert_exporter": "python",
   "pygments_lexer": "ipython3",
   "version": "3.6.7"
  }
 },
 "nbformat": 4,
 "nbformat_minor": 2
}
